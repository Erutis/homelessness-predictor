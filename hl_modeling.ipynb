{
 "cells": [
  {
   "cell_type": "markdown",
   "id": "e233d106-0dc1-4822-8463-a954e8f5d45b",
   "metadata": {},
   "source": [
    "# Modeling"
   ]
  },
  {
   "cell_type": "code",
   "execution_count": null,
   "id": "cfbec621-9c71-402c-a69b-24ea67bc2076",
   "metadata": {},
   "outputs": [],
   "source": [
    "import pandas as pd\n",
    "import numpy as np\n",
    "\n",
    "#standard scaler\n",
    "# lin reg"
   ]
  },
  {
   "cell_type": "code",
   "execution_count": null,
   "id": "eec559c4-8a07-4079-b72c-81fbcff47066",
   "metadata": {},
   "outputs": [],
   "source": [
    "fisc = pd.read_csv('"
   ]
  },
  {
   "cell_type": "code",
   "execution_count": null,
   "id": "3ef40e93-71a0-4260-8817-b63302b662fe",
   "metadata": {},
   "outputs": [],
   "source": []
  }
 ],
 "metadata": {
  "kernelspec": {
   "display_name": "Python 3 (ipykernel)",
   "language": "python",
   "name": "python3"
  },
  "language_info": {
   "codemirror_mode": {
    "name": "ipython",
    "version": 3
   },
   "file_extension": ".py",
   "mimetype": "text/x-python",
   "name": "python",
   "nbconvert_exporter": "python",
   "pygments_lexer": "ipython3",
   "version": "3.9.12"
  }
 },
 "nbformat": 4,
 "nbformat_minor": 5
}
