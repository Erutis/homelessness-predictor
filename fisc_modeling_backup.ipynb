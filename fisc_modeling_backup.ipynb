{
 "cells": [
  {
   "cell_type": "markdown",
   "id": "fd9f8eb5-6a3e-44b2-8905-506b7b811b8d",
   "metadata": {},
   "source": [
    "# FiSC Modeling\n",
    "\n",
    "This notebook takes the cleaned FiSC data from the `cleaning.ipynb` notebook and predicts city and county spend of Parks & Recreation based on other types of spending. \n",
    "\n",
    "\n"
   ]
  },
  {
   "cell_type": "code",
   "execution_count": 24,
   "id": "bdb8917d-ebd3-4906-9403-5ea1d70faee3",
   "metadata": {},
   "outputs": [],
   "source": [
    "import pandas as pd\n",
    "import numpy as np\n",
    "import seaborn as sns\n",
    "import matplotlib.pyplot as plt\n",
    "\n",
    "from sklearn.linear_model import LinearRegression\n",
    "from sklearn.model_selection import train_test_split, GridSearchCV\n",
    "from sklearn.preprocessing import StandardScaler\n",
    "\n",
    "from sklearn.tree import DecisionTreeRegressor, plot_tree\n",
    "\n",
    "from sklearn.metrics import mean_absolute_error, mean_squared_error"
   ]
  },
  {
   "cell_type": "code",
   "execution_count": 54,
   "id": "9e302681-2955-4c4e-a351-90271a4b8208",
   "metadata": {},
   "outputs": [
    {
     "data": {
      "text/html": [
       "<div>\n",
       "<style scoped>\n",
       "    .dataframe tbody tr th:only-of-type {\n",
       "        vertical-align: middle;\n",
       "    }\n",
       "\n",
       "    .dataframe tbody tr th {\n",
       "        vertical-align: top;\n",
       "    }\n",
       "\n",
       "    .dataframe thead th {\n",
       "        text-align: right;\n",
       "    }\n",
       "</style>\n",
       "<table border=\"1\" class=\"dataframe\">\n",
       "  <thead>\n",
       "    <tr style=\"text-align: right;\">\n",
       "      <th></th>\n",
       "      <th>year</th>\n",
       "      <th>city_name</th>\n",
       "      <th>city_types</th>\n",
       "      <th>id_city</th>\n",
       "      <th>city_population</th>\n",
       "      <th>cpi</th>\n",
       "      <th>rev_total_city</th>\n",
       "      <th>rev_general_city</th>\n",
       "      <th>intergovt_rev_city</th>\n",
       "      <th>igr_federal_city</th>\n",
       "      <th>...</th>\n",
       "      <th>cash_other_offsets</th>\n",
       "      <th>cash_other_bonds</th>\n",
       "      <th>cash_other_other</th>\n",
       "      <th>county_name</th>\n",
       "      <th>id_county</th>\n",
       "      <th>county_population</th>\n",
       "      <th>relationship_city_school</th>\n",
       "      <th>enrollment</th>\n",
       "      <th>districts_in_city</th>\n",
       "      <th>consolidated_govt</th>\n",
       "    </tr>\n",
       "  </thead>\n",
       "  <tbody>\n",
       "    <tr>\n",
       "      <th>0</th>\n",
       "      <td>1977</td>\n",
       "      <td>AK: Anchorage</td>\n",
       "      <td>core</td>\n",
       "      <td>22002001</td>\n",
       "      <td>174500</td>\n",
       "      <td>4.044885</td>\n",
       "      <td>5342.24</td>\n",
       "      <td>4956.92</td>\n",
       "      <td>2148.77</td>\n",
       "      <td>279.32</td>\n",
       "      <td>...</td>\n",
       "      <td>178.51</td>\n",
       "      <td>787.93</td>\n",
       "      <td>691.32</td>\n",
       "      <td>NaN</td>\n",
       "      <td>NaN</td>\n",
       "      <td>NaN</td>\n",
       "      <td>4.0</td>\n",
       "      <td>36855.0</td>\n",
       "      <td>NaN</td>\n",
       "      <td>1.0</td>\n",
       "    </tr>\n",
       "    <tr>\n",
       "      <th>1</th>\n",
       "      <td>1978</td>\n",
       "      <td>AK: Anchorage</td>\n",
       "      <td>core</td>\n",
       "      <td>22002001</td>\n",
       "      <td>177000</td>\n",
       "      <td>3.759509</td>\n",
       "      <td>5948.99</td>\n",
       "      <td>5490.05</td>\n",
       "      <td>2468.11</td>\n",
       "      <td>403.24</td>\n",
       "      <td>...</td>\n",
       "      <td>187.53</td>\n",
       "      <td>1395.82</td>\n",
       "      <td>1158.01</td>\n",
       "      <td>NaN</td>\n",
       "      <td>NaN</td>\n",
       "      <td>NaN</td>\n",
       "      <td>4.0</td>\n",
       "      <td>36804.0</td>\n",
       "      <td>NaN</td>\n",
       "      <td>1.0</td>\n",
       "    </tr>\n",
       "    <tr>\n",
       "      <th>2</th>\n",
       "      <td>1979</td>\n",
       "      <td>AK: Anchorage</td>\n",
       "      <td>core</td>\n",
       "      <td>22002001</td>\n",
       "      <td>179600</td>\n",
       "      <td>3.376308</td>\n",
       "      <td>6158.68</td>\n",
       "      <td>5746.64</td>\n",
       "      <td>2573.34</td>\n",
       "      <td>496.97</td>\n",
       "      <td>...</td>\n",
       "      <td>249.03</td>\n",
       "      <td>1812.04</td>\n",
       "      <td>1314.62</td>\n",
       "      <td>NaN</td>\n",
       "      <td>NaN</td>\n",
       "      <td>NaN</td>\n",
       "      <td>4.0</td>\n",
       "      <td>36757.0</td>\n",
       "      <td>NaN</td>\n",
       "      <td>1.0</td>\n",
       "    </tr>\n",
       "    <tr>\n",
       "      <th>3</th>\n",
       "      <td>1980</td>\n",
       "      <td>AK: Anchorage</td>\n",
       "      <td>core</td>\n",
       "      <td>22002001</td>\n",
       "      <td>178800</td>\n",
       "      <td>2.974757</td>\n",
       "      <td>5654.93</td>\n",
       "      <td>5210.77</td>\n",
       "      <td>2313.62</td>\n",
       "      <td>371.46</td>\n",
       "      <td>...</td>\n",
       "      <td>986.73</td>\n",
       "      <td>1330.72</td>\n",
       "      <td>1572.66</td>\n",
       "      <td>NaN</td>\n",
       "      <td>NaN</td>\n",
       "      <td>NaN</td>\n",
       "      <td>4.0</td>\n",
       "      <td>36008.0</td>\n",
       "      <td>NaN</td>\n",
       "      <td>1.0</td>\n",
       "    </tr>\n",
       "    <tr>\n",
       "      <th>4</th>\n",
       "      <td>1981</td>\n",
       "      <td>AK: Anchorage</td>\n",
       "      <td>core</td>\n",
       "      <td>22002001</td>\n",
       "      <td>174431</td>\n",
       "      <td>2.696590</td>\n",
       "      <td>6192.83</td>\n",
       "      <td>5736.81</td>\n",
       "      <td>2771.43</td>\n",
       "      <td>338.76</td>\n",
       "      <td>...</td>\n",
       "      <td>977.32</td>\n",
       "      <td>1549.51</td>\n",
       "      <td>1669.55</td>\n",
       "      <td>NaN</td>\n",
       "      <td>NaN</td>\n",
       "      <td>NaN</td>\n",
       "      <td>4.0</td>\n",
       "      <td>34557.0</td>\n",
       "      <td>NaN</td>\n",
       "      <td>1.0</td>\n",
       "    </tr>\n",
       "  </tbody>\n",
       "</table>\n",
       "<p>5 rows × 663 columns</p>\n",
       "</div>"
      ],
      "text/plain": [
       "   year      city_name city_types   id_city  city_population       cpi  \\\n",
       "0  1977  AK: Anchorage       core  22002001           174500  4.044885   \n",
       "1  1978  AK: Anchorage       core  22002001           177000  3.759509   \n",
       "2  1979  AK: Anchorage       core  22002001           179600  3.376308   \n",
       "3  1980  AK: Anchorage       core  22002001           178800  2.974757   \n",
       "4  1981  AK: Anchorage       core  22002001           174431  2.696590   \n",
       "\n",
       "   rev_total_city  rev_general_city  intergovt_rev_city  igr_federal_city  \\\n",
       "0         5342.24           4956.92             2148.77            279.32   \n",
       "1         5948.99           5490.05             2468.11            403.24   \n",
       "2         6158.68           5746.64             2573.34            496.97   \n",
       "3         5654.93           5210.77             2313.62            371.46   \n",
       "4         6192.83           5736.81             2771.43            338.76   \n",
       "\n",
       "   ...  cash_other_offsets  cash_other_bonds  cash_other_other  county_name  \\\n",
       "0  ...              178.51            787.93            691.32          NaN   \n",
       "1  ...              187.53           1395.82           1158.01          NaN   \n",
       "2  ...              249.03           1812.04           1314.62          NaN   \n",
       "3  ...              986.73           1330.72           1572.66          NaN   \n",
       "4  ...              977.32           1549.51           1669.55          NaN   \n",
       "\n",
       "   id_county  county_population  relationship_city_school  enrollment  \\\n",
       "0        NaN                NaN                       4.0     36855.0   \n",
       "1        NaN                NaN                       4.0     36804.0   \n",
       "2        NaN                NaN                       4.0     36757.0   \n",
       "3        NaN                NaN                       4.0     36008.0   \n",
       "4        NaN                NaN                       4.0     34557.0   \n",
       "\n",
       "   districts_in_city  consolidated_govt  \n",
       "0                NaN                1.0  \n",
       "1                NaN                1.0  \n",
       "2                NaN                1.0  \n",
       "3                NaN                1.0  \n",
       "4                NaN                1.0  \n",
       "\n",
       "[5 rows x 663 columns]"
      ]
     },
     "execution_count": 54,
     "metadata": {},
     "output_type": "execute_result"
    }
   ],
   "source": [
    "df = pd.read_csv('fisc_data.csv')\n",
    "df.head()"
   ]
  },
  {
   "cell_type": "code",
   "execution_count": 57,
   "id": "e4ba3c56-a889-4667-9aab-ba47035607b8",
   "metadata": {},
   "outputs": [
    {
     "data": {
      "text/html": [
       "<div>\n",
       "<style scoped>\n",
       "    .dataframe tbody tr th:only-of-type {\n",
       "        vertical-align: middle;\n",
       "    }\n",
       "\n",
       "    .dataframe tbody tr th {\n",
       "        vertical-align: top;\n",
       "    }\n",
       "\n",
       "    .dataframe thead th {\n",
       "        text-align: right;\n",
       "    }\n",
       "</style>\n",
       "<table border=\"1\" class=\"dataframe\">\n",
       "  <thead>\n",
       "    <tr style=\"text-align: right;\">\n",
       "      <th></th>\n",
       "      <th>year</th>\n",
       "      <th>city_name</th>\n",
       "      <th>city_types</th>\n",
       "      <th>id_city</th>\n",
       "      <th>city_population</th>\n",
       "      <th>cpi</th>\n",
       "      <th>rev_total_city</th>\n",
       "      <th>rev_general_city</th>\n",
       "      <th>intergovt_rev_city</th>\n",
       "      <th>igr_federal_city</th>\n",
       "      <th>...</th>\n",
       "      <th>cash_other_offsets</th>\n",
       "      <th>cash_other_bonds</th>\n",
       "      <th>cash_other_other</th>\n",
       "      <th>county_name</th>\n",
       "      <th>id_county</th>\n",
       "      <th>county_population</th>\n",
       "      <th>relationship_city_school</th>\n",
       "      <th>enrollment</th>\n",
       "      <th>districts_in_city</th>\n",
       "      <th>consolidated_govt</th>\n",
       "    </tr>\n",
       "  </thead>\n",
       "  <tbody>\n",
       "    <tr>\n",
       "      <th>38</th>\n",
       "      <td>2015</td>\n",
       "      <td>AK: Anchorage</td>\n",
       "      <td>core</td>\n",
       "      <td>22002001</td>\n",
       "      <td>299927</td>\n",
       "      <td>1.034187</td>\n",
       "      <td>6054.78</td>\n",
       "      <td>5276.45</td>\n",
       "      <td>2469.25</td>\n",
       "      <td>152.67</td>\n",
       "      <td>...</td>\n",
       "      <td>191.48</td>\n",
       "      <td>0.00</td>\n",
       "      <td>2652.64</td>\n",
       "      <td>NaN</td>\n",
       "      <td>NaN</td>\n",
       "      <td>NaN</td>\n",
       "      <td>4.0</td>\n",
       "      <td>48368.0</td>\n",
       "      <td>NaN</td>\n",
       "      <td>1.0</td>\n",
       "    </tr>\n",
       "    <tr>\n",
       "      <th>79</th>\n",
       "      <td>2015</td>\n",
       "      <td>AK: Fairbanks</td>\n",
       "      <td>core</td>\n",
       "      <td>22006001</td>\n",
       "      <td>31529</td>\n",
       "      <td>1.034187</td>\n",
       "      <td>1891.35</td>\n",
       "      <td>1891.35</td>\n",
       "      <td>678.13</td>\n",
       "      <td>42.02</td>\n",
       "      <td>...</td>\n",
       "      <td>113.06</td>\n",
       "      <td>1.93</td>\n",
       "      <td>5897.51</td>\n",
       "      <td>Fairbanks North Star</td>\n",
       "      <td>21006002.0</td>\n",
       "      <td>99256.0</td>\n",
       "      <td>5.0</td>\n",
       "      <td>4716.0</td>\n",
       "      <td>NaN</td>\n",
       "      <td>0.0</td>\n",
       "    </tr>\n",
       "    <tr>\n",
       "      <th>120</th>\n",
       "      <td>2015</td>\n",
       "      <td>AL: Birmingham</td>\n",
       "      <td>core|legacy</td>\n",
       "      <td>12037003</td>\n",
       "      <td>211109</td>\n",
       "      <td>1.034187</td>\n",
       "      <td>3426.90</td>\n",
       "      <td>2369.36</td>\n",
       "      <td>193.36</td>\n",
       "      <td>46.07</td>\n",
       "      <td>...</td>\n",
       "      <td>1193.01</td>\n",
       "      <td>358.32</td>\n",
       "      <td>2721.32</td>\n",
       "      <td>Jefferson</td>\n",
       "      <td>11037037.0</td>\n",
       "      <td>659918.0</td>\n",
       "      <td>1.0</td>\n",
       "      <td>24693.0</td>\n",
       "      <td>1.0</td>\n",
       "      <td>0.0</td>\n",
       "    </tr>\n",
       "    <tr>\n",
       "      <th>161</th>\n",
       "      <td>2015</td>\n",
       "      <td>AL: Gadsden</td>\n",
       "      <td>legacy</td>\n",
       "      <td>12028003</td>\n",
       "      <td>36057</td>\n",
       "      <td>1.034187</td>\n",
       "      <td>2063.56</td>\n",
       "      <td>1785.14</td>\n",
       "      <td>57.79</td>\n",
       "      <td>42.79</td>\n",
       "      <td>...</td>\n",
       "      <td>163.03</td>\n",
       "      <td>121.47</td>\n",
       "      <td>1205.09</td>\n",
       "      <td>Etowah</td>\n",
       "      <td>11028028.0</td>\n",
       "      <td>103407.0</td>\n",
       "      <td>1.0</td>\n",
       "      <td>5226.0</td>\n",
       "      <td>1.0</td>\n",
       "      <td>0.0</td>\n",
       "    </tr>\n",
       "    <tr>\n",
       "      <th>202</th>\n",
       "      <td>2015</td>\n",
       "      <td>AL: Mobile</td>\n",
       "      <td>core</td>\n",
       "      <td>12049004</td>\n",
       "      <td>192979</td>\n",
       "      <td>1.034187</td>\n",
       "      <td>1984.90</td>\n",
       "      <td>1693.66</td>\n",
       "      <td>16.89</td>\n",
       "      <td>11.81</td>\n",
       "      <td>...</td>\n",
       "      <td>188.71</td>\n",
       "      <td>213.24</td>\n",
       "      <td>1592.10</td>\n",
       "      <td>Mobile</td>\n",
       "      <td>11049049.0</td>\n",
       "      <td>414590.0</td>\n",
       "      <td>2.0</td>\n",
       "      <td>25673.0</td>\n",
       "      <td>1.0</td>\n",
       "      <td>0.0</td>\n",
       "    </tr>\n",
       "    <tr>\n",
       "      <th>...</th>\n",
       "      <td>...</td>\n",
       "      <td>...</td>\n",
       "      <td>...</td>\n",
       "      <td>...</td>\n",
       "      <td>...</td>\n",
       "      <td>...</td>\n",
       "      <td>...</td>\n",
       "      <td>...</td>\n",
       "      <td>...</td>\n",
       "      <td>...</td>\n",
       "      <td>...</td>\n",
       "      <td>...</td>\n",
       "      <td>...</td>\n",
       "      <td>...</td>\n",
       "      <td>...</td>\n",
       "      <td>...</td>\n",
       "      <td>...</td>\n",
       "      <td>...</td>\n",
       "      <td>...</td>\n",
       "      <td>...</td>\n",
       "      <td>...</td>\n",
       "    </tr>\n",
       "    <tr>\n",
       "      <th>8771</th>\n",
       "      <td>2015</td>\n",
       "      <td>WV: Charleston</td>\n",
       "      <td>core|legacy</td>\n",
       "      <td>492020002</td>\n",
       "      <td>50142</td>\n",
       "      <td>1.034187</td>\n",
       "      <td>2945.05</td>\n",
       "      <td>2824.58</td>\n",
       "      <td>178.08</td>\n",
       "      <td>67.75</td>\n",
       "      <td>...</td>\n",
       "      <td>545.01</td>\n",
       "      <td>2.18</td>\n",
       "      <td>2798.63</td>\n",
       "      <td>Kanawha</td>\n",
       "      <td>491020020.0</td>\n",
       "      <td>190353.0</td>\n",
       "      <td>2.0</td>\n",
       "      <td>6876.0</td>\n",
       "      <td>1.0</td>\n",
       "      <td>0.0</td>\n",
       "    </tr>\n",
       "    <tr>\n",
       "      <th>8812</th>\n",
       "      <td>2015</td>\n",
       "      <td>WV: Huntington</td>\n",
       "      <td>core|legacy</td>\n",
       "      <td>492006002</td>\n",
       "      <td>48522</td>\n",
       "      <td>1.034187</td>\n",
       "      <td>1601.99</td>\n",
       "      <td>1455.09</td>\n",
       "      <td>175.56</td>\n",
       "      <td>90.26</td>\n",
       "      <td>...</td>\n",
       "      <td>357.75</td>\n",
       "      <td>39.62</td>\n",
       "      <td>975.33</td>\n",
       "      <td>Cabell</td>\n",
       "      <td>491006006.0</td>\n",
       "      <td>96634.0</td>\n",
       "      <td>3.0</td>\n",
       "      <td>5933.0</td>\n",
       "      <td>2.0</td>\n",
       "      <td>0.0</td>\n",
       "    </tr>\n",
       "    <tr>\n",
       "      <th>8853</th>\n",
       "      <td>2015</td>\n",
       "      <td>WV: Wheeling</td>\n",
       "      <td>legacy</td>\n",
       "      <td>492035004</td>\n",
       "      <td>27720</td>\n",
       "      <td>1.034187</td>\n",
       "      <td>3624.62</td>\n",
       "      <td>2942.81</td>\n",
       "      <td>136.77</td>\n",
       "      <td>62.49</td>\n",
       "      <td>...</td>\n",
       "      <td>1386.43</td>\n",
       "      <td>619.62</td>\n",
       "      <td>1219.35</td>\n",
       "      <td>Ohio</td>\n",
       "      <td>491035035.0</td>\n",
       "      <td>43261.0</td>\n",
       "      <td>2.0</td>\n",
       "      <td>3060.0</td>\n",
       "      <td>1.0</td>\n",
       "      <td>0.0</td>\n",
       "    </tr>\n",
       "    <tr>\n",
       "      <th>8894</th>\n",
       "      <td>2015</td>\n",
       "      <td>WY: Casper</td>\n",
       "      <td>core</td>\n",
       "      <td>512013001</td>\n",
       "      <td>59660</td>\n",
       "      <td>1.034187</td>\n",
       "      <td>1771.54</td>\n",
       "      <td>1561.73</td>\n",
       "      <td>669.76</td>\n",
       "      <td>37.34</td>\n",
       "      <td>...</td>\n",
       "      <td>271.82</td>\n",
       "      <td>960.31</td>\n",
       "      <td>3169.71</td>\n",
       "      <td>Natrona</td>\n",
       "      <td>511013013.0</td>\n",
       "      <td>81375.0</td>\n",
       "      <td>2.0</td>\n",
       "      <td>9056.0</td>\n",
       "      <td>1.0</td>\n",
       "      <td>0.0</td>\n",
       "    </tr>\n",
       "    <tr>\n",
       "      <th>8935</th>\n",
       "      <td>2015</td>\n",
       "      <td>WY: Cheyenne</td>\n",
       "      <td>core</td>\n",
       "      <td>512011003</td>\n",
       "      <td>62259</td>\n",
       "      <td>1.034187</td>\n",
       "      <td>1901.58</td>\n",
       "      <td>1613.17</td>\n",
       "      <td>767.70</td>\n",
       "      <td>90.31</td>\n",
       "      <td>...</td>\n",
       "      <td>0.00</td>\n",
       "      <td>344.11</td>\n",
       "      <td>2839.67</td>\n",
       "      <td>Laramie</td>\n",
       "      <td>511011011.0</td>\n",
       "      <td>96038.0</td>\n",
       "      <td>2.0</td>\n",
       "      <td>8972.0</td>\n",
       "      <td>1.0</td>\n",
       "      <td>0.0</td>\n",
       "    </tr>\n",
       "  </tbody>\n",
       "</table>\n",
       "<p>218 rows × 663 columns</p>\n",
       "</div>"
      ],
      "text/plain": [
       "      year       city_name   city_types    id_city  city_population       cpi  \\\n",
       "38    2015   AK: Anchorage         core   22002001           299927  1.034187   \n",
       "79    2015   AK: Fairbanks         core   22006001            31529  1.034187   \n",
       "120   2015  AL: Birmingham  core|legacy   12037003           211109  1.034187   \n",
       "161   2015     AL: Gadsden       legacy   12028003            36057  1.034187   \n",
       "202   2015      AL: Mobile         core   12049004           192979  1.034187   \n",
       "...    ...             ...          ...        ...              ...       ...   \n",
       "8771  2015  WV: Charleston  core|legacy  492020002            50142  1.034187   \n",
       "8812  2015  WV: Huntington  core|legacy  492006002            48522  1.034187   \n",
       "8853  2015    WV: Wheeling       legacy  492035004            27720  1.034187   \n",
       "8894  2015      WY: Casper         core  512013001            59660  1.034187   \n",
       "8935  2015    WY: Cheyenne         core  512011003            62259  1.034187   \n",
       "\n",
       "      rev_total_city  rev_general_city  intergovt_rev_city  igr_federal_city  \\\n",
       "38           6054.78           5276.45             2469.25            152.67   \n",
       "79           1891.35           1891.35              678.13             42.02   \n",
       "120          3426.90           2369.36              193.36             46.07   \n",
       "161          2063.56           1785.14               57.79             42.79   \n",
       "202          1984.90           1693.66               16.89             11.81   \n",
       "...              ...               ...                 ...               ...   \n",
       "8771         2945.05           2824.58              178.08             67.75   \n",
       "8812         1601.99           1455.09              175.56             90.26   \n",
       "8853         3624.62           2942.81              136.77             62.49   \n",
       "8894         1771.54           1561.73              669.76             37.34   \n",
       "8935         1901.58           1613.17              767.70             90.31   \n",
       "\n",
       "      ...  cash_other_offsets  cash_other_bonds  cash_other_other  \\\n",
       "38    ...              191.48              0.00           2652.64   \n",
       "79    ...              113.06              1.93           5897.51   \n",
       "120   ...             1193.01            358.32           2721.32   \n",
       "161   ...              163.03            121.47           1205.09   \n",
       "202   ...              188.71            213.24           1592.10   \n",
       "...   ...                 ...               ...               ...   \n",
       "8771  ...              545.01              2.18           2798.63   \n",
       "8812  ...              357.75             39.62            975.33   \n",
       "8853  ...             1386.43            619.62           1219.35   \n",
       "8894  ...              271.82            960.31           3169.71   \n",
       "8935  ...                0.00            344.11           2839.67   \n",
       "\n",
       "               county_name    id_county  county_population  \\\n",
       "38                     NaN          NaN                NaN   \n",
       "79    Fairbanks North Star   21006002.0            99256.0   \n",
       "120              Jefferson   11037037.0           659918.0   \n",
       "161                 Etowah   11028028.0           103407.0   \n",
       "202                 Mobile   11049049.0           414590.0   \n",
       "...                    ...          ...                ...   \n",
       "8771               Kanawha  491020020.0           190353.0   \n",
       "8812                Cabell  491006006.0            96634.0   \n",
       "8853                  Ohio  491035035.0            43261.0   \n",
       "8894               Natrona  511013013.0            81375.0   \n",
       "8935               Laramie  511011011.0            96038.0   \n",
       "\n",
       "      relationship_city_school  enrollment  districts_in_city  \\\n",
       "38                         4.0     48368.0                NaN   \n",
       "79                         5.0      4716.0                NaN   \n",
       "120                        1.0     24693.0                1.0   \n",
       "161                        1.0      5226.0                1.0   \n",
       "202                        2.0     25673.0                1.0   \n",
       "...                        ...         ...                ...   \n",
       "8771                       2.0      6876.0                1.0   \n",
       "8812                       3.0      5933.0                2.0   \n",
       "8853                       2.0      3060.0                1.0   \n",
       "8894                       2.0      9056.0                1.0   \n",
       "8935                       2.0      8972.0                1.0   \n",
       "\n",
       "      consolidated_govt  \n",
       "38                  1.0  \n",
       "79                  0.0  \n",
       "120                 0.0  \n",
       "161                 0.0  \n",
       "202                 0.0  \n",
       "...                 ...  \n",
       "8771                0.0  \n",
       "8812                0.0  \n",
       "8853                0.0  \n",
       "8894                0.0  \n",
       "8935                0.0  \n",
       "\n",
       "[218 rows x 663 columns]"
      ]
     },
     "execution_count": 57,
     "metadata": {},
     "output_type": "execute_result"
    }
   ],
   "source": [
    "df_2015 = df[df['year'] == 2015]\n",
    "df_2015"
   ]
  },
  {
   "cell_type": "code",
   "execution_count": 3,
   "id": "db8edf8d-e9e9-4a3c-afec-4a37afdd36c9",
   "metadata": {},
   "outputs": [
    {
     "data": {
      "text/plain": [
       "(8938, 663)"
      ]
     },
     "execution_count": 3,
     "metadata": {},
     "output_type": "execute_result"
    }
   ],
   "source": [
    "df.shape"
   ]
  },
  {
   "cell_type": "code",
   "execution_count": 58,
   "id": "815b3b91-24ab-4dc5-ad8b-c3eaf596a9bc",
   "metadata": {},
   "outputs": [
    {
     "data": {
      "text/html": [
       "<div>\n",
       "<style scoped>\n",
       "    .dataframe tbody tr th:only-of-type {\n",
       "        vertical-align: middle;\n",
       "    }\n",
       "\n",
       "    .dataframe tbody tr th {\n",
       "        vertical-align: top;\n",
       "    }\n",
       "\n",
       "    .dataframe thead th {\n",
       "        text-align: right;\n",
       "    }\n",
       "</style>\n",
       "<table border=\"1\" class=\"dataframe\">\n",
       "  <thead>\n",
       "    <tr style=\"text-align: right;\">\n",
       "      <th></th>\n",
       "      <th>city_name</th>\n",
       "      <th>city_population</th>\n",
       "      <th>rev_general_city</th>\n",
       "      <th>police_city</th>\n",
       "      <th>social_services_city</th>\n",
       "      <th>admin_judicial_city</th>\n",
       "      <th>education_services_city</th>\n",
       "    </tr>\n",
       "  </thead>\n",
       "  <tbody>\n",
       "    <tr>\n",
       "      <th>1555</th>\n",
       "      <td>DC: Washington</td>\n",
       "      <td>662513</td>\n",
       "      <td>19318.35</td>\n",
       "      <td>912.67</td>\n",
       "      <td>6733.37</td>\n",
       "      <td>167.12</td>\n",
       "      <td>4365.06</td>\n",
       "    </tr>\n",
       "    <tr>\n",
       "      <th>5737</th>\n",
       "      <td>NY: New York</td>\n",
       "      <td>8437387</td>\n",
       "      <td>12202.83</td>\n",
       "      <td>644.45</td>\n",
       "      <td>1908.70</td>\n",
       "      <td>89.85</td>\n",
       "      <td>3522.14</td>\n",
       "    </tr>\n",
       "    <tr>\n",
       "      <th>1145</th>\n",
       "      <td>CA: San Francisco</td>\n",
       "      <td>851116</td>\n",
       "      <td>9693.51</td>\n",
       "      <td>478.06</td>\n",
       "      <td>4119.45</td>\n",
       "      <td>99.34</td>\n",
       "      <td>117.00</td>\n",
       "    </tr>\n",
       "    <tr>\n",
       "      <th>1473</th>\n",
       "      <td>CT: Hartford</td>\n",
       "      <td>124683</td>\n",
       "      <td>7535.39</td>\n",
       "      <td>452.03</td>\n",
       "      <td>235.17</td>\n",
       "      <td>14.71</td>\n",
       "      <td>3705.06</td>\n",
       "    </tr>\n",
       "    <tr>\n",
       "      <th>4589</th>\n",
       "      <td>MS: Gulfport</td>\n",
       "      <td>71150</td>\n",
       "      <td>7355.27</td>\n",
       "      <td>271.98</td>\n",
       "      <td>6300.00</td>\n",
       "      <td>26.96</td>\n",
       "      <td>0.00</td>\n",
       "    </tr>\n",
       "    <tr>\n",
       "      <th>5286</th>\n",
       "      <td>NJ: Atlantic City</td>\n",
       "      <td>39184</td>\n",
       "      <td>6670.14</td>\n",
       "      <td>1020.86</td>\n",
       "      <td>155.30</td>\n",
       "      <td>123.52</td>\n",
       "      <td>101.64</td>\n",
       "    </tr>\n",
       "    <tr>\n",
       "      <th>1514</th>\n",
       "      <td>CT: New Haven</td>\n",
       "      <td>130618</td>\n",
       "      <td>6312.23</td>\n",
       "      <td>312.75</td>\n",
       "      <td>25.41</td>\n",
       "      <td>13.92</td>\n",
       "      <td>3052.93</td>\n",
       "    </tr>\n",
       "    <tr>\n",
       "      <th>5409</th>\n",
       "      <td>NJ: Trenton</td>\n",
       "      <td>84067</td>\n",
       "      <td>6144.96</td>\n",
       "      <td>342.88</td>\n",
       "      <td>39.70</td>\n",
       "      <td>49.12</td>\n",
       "      <td>3671.22</td>\n",
       "    </tr>\n",
       "    <tr>\n",
       "      <th>3892</th>\n",
       "      <td>MI: Flint</td>\n",
       "      <td>98565</td>\n",
       "      <td>5959.49</td>\n",
       "      <td>227.69</td>\n",
       "      <td>3974.87</td>\n",
       "      <td>55.56</td>\n",
       "      <td>0.00</td>\n",
       "    </tr>\n",
       "    <tr>\n",
       "      <th>8402</th>\n",
       "      <td>VA: Richmond</td>\n",
       "      <td>217003</td>\n",
       "      <td>5521.47</td>\n",
       "      <td>514.34</td>\n",
       "      <td>618.56</td>\n",
       "      <td>106.53</td>\n",
       "      <td>1743.74</td>\n",
       "    </tr>\n",
       "  </tbody>\n",
       "</table>\n",
       "</div>"
      ],
      "text/plain": [
       "              city_name  city_population  rev_general_city  police_city  \\\n",
       "1555     DC: Washington           662513          19318.35       912.67   \n",
       "5737       NY: New York          8437387          12202.83       644.45   \n",
       "1145  CA: San Francisco           851116           9693.51       478.06   \n",
       "1473       CT: Hartford           124683           7535.39       452.03   \n",
       "4589       MS: Gulfport            71150           7355.27       271.98   \n",
       "5286  NJ: Atlantic City            39184           6670.14      1020.86   \n",
       "1514      CT: New Haven           130618           6312.23       312.75   \n",
       "5409        NJ: Trenton            84067           6144.96       342.88   \n",
       "3892          MI: Flint            98565           5959.49       227.69   \n",
       "8402       VA: Richmond           217003           5521.47       514.34   \n",
       "\n",
       "      social_services_city  admin_judicial_city  education_services_city  \n",
       "1555               6733.37               167.12                  4365.06  \n",
       "5737               1908.70                89.85                  3522.14  \n",
       "1145               4119.45                99.34                   117.00  \n",
       "1473                235.17                14.71                  3705.06  \n",
       "4589               6300.00                26.96                     0.00  \n",
       "5286                155.30               123.52                   101.64  \n",
       "1514                 25.41                13.92                  3052.93  \n",
       "5409                 39.70                49.12                  3671.22  \n",
       "3892               3974.87                55.56                     0.00  \n",
       "8402                618.56               106.53                  1743.74  "
      ]
     },
     "execution_count": 58,
     "metadata": {},
     "output_type": "execute_result"
    }
   ],
   "source": [
    "df_2015[['city_name','city_population', 'rev_general_city', \n",
    "    'police_city','social_services_city','admin_judicial_city',\n",
    "    'education_services_city']].sort_values(by='rev_general_city', ascending=False).head(10)\n",
    "\n"
   ]
  },
  {
   "cell_type": "code",
   "execution_count": 53,
   "id": "a6e8b670-7cb0-4f94-a2cc-71a4d143ef6e",
   "metadata": {},
   "outputs": [
    {
     "data": {
      "image/png": "[encoded data removed]",
      "text/plain": [
       "<Figure size 432x288 with 1 Axes>"
      ]
     },
     "metadata": {
      "needs_background": "light"
     },
     "output_type": "display_data"
    }
   ],
   "source": [
    "plt.scatter(df['police_city'],df['social_services_city']);"
   ]
  },
  {
   "cell_type": "code",
   "execution_count": 51,
   "id": "36f588f7-0476-491f-a459-87ee660ad525",
   "metadata": {},
   "outputs": [
    {
     "data": {
      "image/png": "[encoded data removed]",
      "text/plain": [
       "<Figure size 432x288 with 1 Axes>"
      ]
     },
     "metadata": {
      "needs_background": "light"
     },
     "output_type": "display_data"
    }
   ],
   "source": [
    "plt.scatter(df['police_city'],df['education_city']);"
   ]
  },
  {
   "cell_type": "code",
   "execution_count": 50,
   "id": "a519f8af-6a4e-4889-9613-89b03ff2a527",
   "metadata": {},
   "outputs": [
    {
     "data": {
      "image/png": "[encoded data removed]",
      "text/plain": [
       "<Figure size 432x288 with 1 Axes>"
      ]
     },
     "metadata": {
      "needs_background": "light"
     },
     "output_type": "display_data"
    }
   ],
   "source": [
    "plt.scatter(df['police_city'],df['parks_recreation_city']);"
   ]
  },
  {
   "cell_type": "code",
   "execution_count": null,
   "id": "2351d88b-6fe5-42f5-88f8-075b87ef5da2",
   "metadata": {},
   "outputs": [],
   "source": []
  },
  {
   "cell_type": "code",
   "execution_count": null,
   "id": "efcae5ab-69d2-4625-bbc7-1a29e500bf7e",
   "metadata": {},
   "outputs": [],
   "source": []
  },
  {
   "cell_type": "markdown",
   "id": "d07cd7be-0d20-4752-8369-d970d14c21bb",
   "metadata": {},
   "source": [
    "### Setting X and Y\n",
    "\n",
    "-------"
   ]
  },
  {
   "cell_type": "code",
   "execution_count": 5,
   "id": "8f7acd3e-bde2-4023-96a0-e86809ef2eb2",
   "metadata": {},
   "outputs": [],
   "source": [
    "drop_cols = ['parks_recreation_city', 'year', 'city_name', 'city_types', 'id_city','cpi']"
   ]
  },
  {
   "cell_type": "code",
   "execution_count": 6,
   "id": "9c9fa0e6-97da-475c-9fa3-da8af2cbe302",
   "metadata": {},
   "outputs": [],
   "source": [
    "# trying LinReg with all columns, ignoring collinearity\n",
    "X = df.drop(columns=drop_cols)\n",
    "X = X.dropna(axis=1)\n",
    "y = df['parks_recreation_city']"
   ]
  },
  {
   "cell_type": "code",
   "execution_count": 7,
   "id": "180fbc86-4057-4b1a-a2ed-f902983d527c",
   "metadata": {},
   "outputs": [],
   "source": [
    "X_train, X_test, y_train, y_test = train_test_split(X, y, random_state=1)\n"
   ]
  },
  {
   "cell_type": "code",
   "execution_count": 8,
   "id": "0c2e1359-b2b5-4146-a6b9-348765b4c825",
   "metadata": {},
   "outputs": [],
   "source": [
    "sc = StandardScaler()\n",
    "X_train_sc = sc.fit_transform(X_train)\n",
    "X_test_sc = sc.transform(X_test)"
   ]
  },
  {
   "cell_type": "code",
   "execution_count": 9,
   "id": "b0c00407-ffa7-4603-bbea-563561b4d385",
   "metadata": {},
   "outputs": [
    {
     "data": {
      "text/plain": [
       "(0.9999154047606224, 0.9994006205227319)"
      ]
     },
     "execution_count": 9,
     "metadata": {},
     "output_type": "execute_result"
    }
   ],
   "source": [
    "lr = LinearRegression()\n",
    "lr.fit(X_train_sc, y_train)\n",
    "lr.score(X_train_sc, y_train), lr.score(X_test_sc, y_test)"
   ]
  },
  {
   "cell_type": "markdown",
   "id": "33913847-c87c-4344-99ca-da80ee6719e3",
   "metadata": {},
   "source": [
    "This linear regression is likely overfitting and has a ton of multicollinearity. Below we'll try only including a few select features out of the 600+ available."
   ]
  },
  {
   "cell_type": "code",
   "execution_count": 10,
   "id": "06fdca86-adb8-40f1-8551-84335f4f5e0b",
   "metadata": {},
   "outputs": [
    {
     "data": {
      "text/plain": [
       "array([152.74130392,  25.16607512,  15.60179138, ..., 202.62870043,\n",
       "        83.94691104, 200.70426427])"
      ]
     },
     "execution_count": 10,
     "metadata": {},
     "output_type": "execute_result"
    }
   ],
   "source": [
    "preds = lr.predict(X_test_sc)\n",
    "preds"
   ]
  },
  {
   "cell_type": "markdown",
   "id": "f4692f30-8fb2-4453-ad9d-98701cf18874",
   "metadata": {
    "tags": []
   },
   "source": [
    "### Attempt 2\n",
    "----"
   ]
  },
  {
   "cell_type": "code",
   "execution_count": 12,
   "id": "798640ec-220f-4695-8014-34ddd395dfcc",
   "metadata": {},
   "outputs": [],
   "source": [
    "X = df[['city_population', \n",
    "        'rev_general_city', \n",
    "        'police_city',\n",
    "        'social_services_city',\n",
    "        'admin_judicial_city',\n",
    "        'education_services_city',\n",
    "       'spend_intergovt_city',\n",
    "       'transportation_city']]\n",
    "\n",
    "y = df['parks_recreation_city']\n",
    "\n",
    "X_train, X_test, y_train, y_test = train_test_split(X, y, random_state=1)"
   ]
  },
  {
   "cell_type": "code",
   "execution_count": 13,
   "id": "80479562-1140-42bb-a0a5-49683cf01d59",
   "metadata": {},
   "outputs": [],
   "source": [
    "sc = StandardScaler()\n",
    "X_train_sc = sc.fit_transform(X_train)\n",
    "X_test_sc = sc.transform(X_test)"
   ]
  },
  {
   "cell_type": "code",
   "execution_count": 14,
   "id": "3defee9c-f700-46f1-8845-168085ced24f",
   "metadata": {},
   "outputs": [
    {
     "data": {
      "text/html": [
       "<div>\n",
       "<style scoped>\n",
       "    .dataframe tbody tr th:only-of-type {\n",
       "        vertical-align: middle;\n",
       "    }\n",
       "\n",
       "    .dataframe tbody tr th {\n",
       "        vertical-align: top;\n",
       "    }\n",
       "\n",
       "    .dataframe thead th {\n",
       "        text-align: right;\n",
       "    }\n",
       "</style>\n",
       "<table border=\"1\" class=\"dataframe\">\n",
       "  <thead>\n",
       "    <tr style=\"text-align: right;\">\n",
       "      <th></th>\n",
       "      <th>city_population</th>\n",
       "      <th>rev_general_city</th>\n",
       "      <th>police_city</th>\n",
       "      <th>social_services_city</th>\n",
       "      <th>admin_judicial_city</th>\n",
       "      <th>education_services_city</th>\n",
       "      <th>spend_intergovt_city</th>\n",
       "      <th>transportation_city</th>\n",
       "    </tr>\n",
       "  </thead>\n",
       "  <tbody>\n",
       "    <tr>\n",
       "      <th>0</th>\n",
       "      <td>-0.296947</td>\n",
       "      <td>-0.743735</td>\n",
       "      <td>-0.178900</td>\n",
       "      <td>-0.281343</td>\n",
       "      <td>-0.610802</td>\n",
       "      <td>-0.443122</td>\n",
       "      <td>-0.158060</td>\n",
       "      <td>-0.509400</td>\n",
       "    </tr>\n",
       "    <tr>\n",
       "      <th>1</th>\n",
       "      <td>-0.205600</td>\n",
       "      <td>-0.763487</td>\n",
       "      <td>-0.427261</td>\n",
       "      <td>-0.282195</td>\n",
       "      <td>-0.643785</td>\n",
       "      <td>-0.394222</td>\n",
       "      <td>-0.158060</td>\n",
       "      <td>-0.541518</td>\n",
       "    </tr>\n",
       "    <tr>\n",
       "      <th>2</th>\n",
       "      <td>-0.169303</td>\n",
       "      <td>-0.068906</td>\n",
       "      <td>-0.224983</td>\n",
       "      <td>-0.209330</td>\n",
       "      <td>0.364422</td>\n",
       "      <td>-0.374102</td>\n",
       "      <td>-0.158060</td>\n",
       "      <td>-0.543674</td>\n",
       "    </tr>\n",
       "    <tr>\n",
       "      <th>3</th>\n",
       "      <td>-0.361930</td>\n",
       "      <td>-0.855750</td>\n",
       "      <td>-1.260404</td>\n",
       "      <td>-0.282195</td>\n",
       "      <td>-0.749568</td>\n",
       "      <td>-0.443122</td>\n",
       "      <td>-0.158060</td>\n",
       "      <td>-0.679349</td>\n",
       "    </tr>\n",
       "    <tr>\n",
       "      <th>4</th>\n",
       "      <td>-0.359270</td>\n",
       "      <td>-0.420882</td>\n",
       "      <td>-0.277302</td>\n",
       "      <td>-0.222134</td>\n",
       "      <td>-0.748677</td>\n",
       "      <td>-0.439394</td>\n",
       "      <td>-0.158060</td>\n",
       "      <td>-0.789560</td>\n",
       "    </tr>\n",
       "    <tr>\n",
       "      <th>...</th>\n",
       "      <td>...</td>\n",
       "      <td>...</td>\n",
       "      <td>...</td>\n",
       "      <td>...</td>\n",
       "      <td>...</td>\n",
       "      <td>...</td>\n",
       "      <td>...</td>\n",
       "      <td>...</td>\n",
       "    </tr>\n",
       "    <tr>\n",
       "      <th>6698</th>\n",
       "      <td>0.076116</td>\n",
       "      <td>-0.622037</td>\n",
       "      <td>-0.625433</td>\n",
       "      <td>-0.225746</td>\n",
       "      <td>-0.059602</td>\n",
       "      <td>-0.412122</td>\n",
       "      <td>-0.158060</td>\n",
       "      <td>0.773985</td>\n",
       "    </tr>\n",
       "    <tr>\n",
       "      <th>6699</th>\n",
       "      <td>-0.042610</td>\n",
       "      <td>-0.675944</td>\n",
       "      <td>-0.425056</td>\n",
       "      <td>-0.183743</td>\n",
       "      <td>-0.439945</td>\n",
       "      <td>-0.414092</td>\n",
       "      <td>-0.158060</td>\n",
       "      <td>-0.559183</td>\n",
       "    </tr>\n",
       "    <tr>\n",
       "      <th>6700</th>\n",
       "      <td>-0.305167</td>\n",
       "      <td>-0.798175</td>\n",
       "      <td>-1.002613</td>\n",
       "      <td>-0.281668</td>\n",
       "      <td>-0.749568</td>\n",
       "      <td>-0.443122</td>\n",
       "      <td>-0.148307</td>\n",
       "      <td>-0.382167</td>\n",
       "    </tr>\n",
       "    <tr>\n",
       "      <th>6701</th>\n",
       "      <td>-0.295968</td>\n",
       "      <td>0.890837</td>\n",
       "      <td>-0.302776</td>\n",
       "      <td>-0.187416</td>\n",
       "      <td>-0.504128</td>\n",
       "      <td>1.604900</td>\n",
       "      <td>-0.158060</td>\n",
       "      <td>1.189407</td>\n",
       "    </tr>\n",
       "    <tr>\n",
       "      <th>6702</th>\n",
       "      <td>-0.151059</td>\n",
       "      <td>-0.497593</td>\n",
       "      <td>-0.263994</td>\n",
       "      <td>-0.279233</td>\n",
       "      <td>-0.115762</td>\n",
       "      <td>-0.393641</td>\n",
       "      <td>-0.158060</td>\n",
       "      <td>-0.306782</td>\n",
       "    </tr>\n",
       "  </tbody>\n",
       "</table>\n",
       "<p>6703 rows × 8 columns</p>\n",
       "</div>"
      ],
      "text/plain": [
       "      city_population  rev_general_city  police_city  social_services_city  \\\n",
       "0           -0.296947         -0.743735    -0.178900             -0.281343   \n",
       "1           -0.205600         -0.763487    -0.427261             -0.282195   \n",
       "2           -0.169303         -0.068906    -0.224983             -0.209330   \n",
       "3           -0.361930         -0.855750    -1.260404             -0.282195   \n",
       "4           -0.359270         -0.420882    -0.277302             -0.222134   \n",
       "...               ...               ...          ...                   ...   \n",
       "6698         0.076116         -0.622037    -0.625433             -0.225746   \n",
       "6699        -0.042610         -0.675944    -0.425056             -0.183743   \n",
       "6700        -0.305167         -0.798175    -1.002613             -0.281668   \n",
       "6701        -0.295968          0.890837    -0.302776             -0.187416   \n",
       "6702        -0.151059         -0.497593    -0.263994             -0.279233   \n",
       "\n",
       "      admin_judicial_city  education_services_city  spend_intergovt_city  \\\n",
       "0               -0.610802                -0.443122             -0.158060   \n",
       "1               -0.643785                -0.394222             -0.158060   \n",
       "2                0.364422                -0.374102             -0.158060   \n",
       "3               -0.749568                -0.443122             -0.158060   \n",
       "4               -0.748677                -0.439394             -0.158060   \n",
       "...                   ...                      ...                   ...   \n",
       "6698            -0.059602                -0.412122             -0.158060   \n",
       "6699            -0.439945                -0.414092             -0.158060   \n",
       "6700            -0.749568                -0.443122             -0.148307   \n",
       "6701            -0.504128                 1.604900             -0.158060   \n",
       "6702            -0.115762                -0.393641             -0.158060   \n",
       "\n",
       "      transportation_city  \n",
       "0               -0.509400  \n",
       "1               -0.541518  \n",
       "2               -0.543674  \n",
       "3               -0.679349  \n",
       "4               -0.789560  \n",
       "...                   ...  \n",
       "6698             0.773985  \n",
       "6699            -0.559183  \n",
       "6700            -0.382167  \n",
       "6701             1.189407  \n",
       "6702            -0.306782  \n",
       "\n",
       "[6703 rows x 8 columns]"
      ]
     },
     "execution_count": 14,
     "metadata": {},
     "output_type": "execute_result"
    }
   ],
   "source": [
    "X_t_sc_pd = pd.DataFrame(X_train_sc, columns=X_train.columns)\n",
    "X_t_sc_pd"
   ]
  },
  {
   "cell_type": "code",
   "execution_count": 15,
   "id": "b15500d0-5b81-40c3-b5ab-bc9d3dbc68ce",
   "metadata": {},
   "outputs": [
    {
     "data": {
      "text/plain": [
       "<AxesSubplot:>"
      ]
     },
     "execution_count": 15,
     "metadata": {},
     "output_type": "execute_result"
    },
    {
     "data": {
      "image/png": "[encoded data removed]",
      "text/plain": [
       "<Figure size 432x288 with 2 Axes>"
      ]
     },
     "metadata": {
      "needs_background": "light"
     },
     "output_type": "display_data"
    }
   ],
   "source": [
    "#checking for collinearity...there's a lot\n",
    "sns.heatmap(X_t_sc_pd.corr(), annot=True)"
   ]
  },
  {
   "cell_type": "markdown",
   "id": "6e7797dd-8b68-43af-beb6-419b65578d08",
   "metadata": {},
   "source": [
    "### Modeling\n",
    "\n",
    "------"
   ]
  },
  {
   "cell_type": "code",
   "execution_count": 16,
   "id": "cb580b7e-3fba-4fb5-b708-15beae175ad8",
   "metadata": {},
   "outputs": [
    {
     "data": {
      "text/plain": [
       "(0.17836881792564718, 0.23021925833397072)"
      ]
     },
     "execution_count": 16,
     "metadata": {},
     "output_type": "execute_result"
    }
   ],
   "source": [
    "lr = LinearRegression()\n",
    "lr.fit(X_train_sc, y_train)\n",
    "lr.score(X_train_sc, y_train), lr.score(X_test_sc, y_test)"
   ]
  },
  {
   "cell_type": "markdown",
   "id": "d6d621e5-e188-4a2c-a970-15fc8979a8d8",
   "metadata": {},
   "source": [
    "I don't expect LinearRegression to work well, since there's so much colinearity."
   ]
  },
  {
   "cell_type": "code",
   "execution_count": 17,
   "id": "e25b915e-f536-4cf3-90ec-a8bf3b14a14d",
   "metadata": {},
   "outputs": [
    {
     "data": {
      "text/plain": [
       "array([ 84.04811425,  76.49056433,  72.60247471, ..., 142.77758716,\n",
       "        94.25578009, 146.65777088])"
      ]
     },
     "execution_count": 17,
     "metadata": {},
     "output_type": "execute_result"
    }
   ],
   "source": [
    "preds = lr.predict(X_test_sc)\n",
    "preds"
   ]
  },
  {
   "cell_type": "code",
   "execution_count": 47,
   "id": "33cfa27b-f2e7-4fd0-849d-71b37dc54343",
   "metadata": {},
   "outputs": [
    {
     "data": {
      "text/plain": [
       "86.25438175984985"
      ]
     },
     "execution_count": 47,
     "metadata": {},
     "output_type": "execute_result"
    }
   ],
   "source": [
    "mean_squared_error(y_test, preds, squared=False)"
   ]
  },
  {
   "cell_type": "markdown",
   "id": "b648eb28-4c6b-455a-98f3-4445c40a0b87",
   "metadata": {},
   "source": [
    "### Decision Tree Attempt\n",
    "-----"
   ]
  },
  {
   "cell_type": "code",
   "execution_count": 32,
   "id": "6a3700dd-fcb4-4331-bf4f-0dce1e44e602",
   "metadata": {},
   "outputs": [],
   "source": [
    "drop_cols = ['parks_recreation_city', 'year', 'city_name', 'city_types', 'id_city','cpi']"
   ]
  },
  {
   "cell_type": "code",
   "execution_count": 33,
   "id": "a38e3760-05a8-4480-b0e0-928bbde302d5",
   "metadata": {},
   "outputs": [],
   "source": [
    "# trying LinReg with all columns, ignoring collinearity\n",
    "X = df.drop(columns=drop_cols)\n",
    "X = X.dropna(axis=1)\n",
    "y = df['parks_recreation_city']"
   ]
  },
  {
   "cell_type": "code",
   "execution_count": 34,
   "id": "322e8535-5914-4b1a-9f73-8b1c2824cd0c",
   "metadata": {},
   "outputs": [],
   "source": [
    "X_train, X_test, y_train, y_test = train_test_split(X, y, random_state=1)\n"
   ]
  },
  {
   "cell_type": "code",
   "execution_count": null,
   "id": "cc28b7c3-37d2-4fc5-8894-bf44a4164d20",
   "metadata": {},
   "outputs": [],
   "source": [
    "X_train.shape"
   ]
  },
  {
   "cell_type": "code",
   "execution_count": 35,
   "id": "848fa0da-8903-4d3c-8e64-27db3bb439b3",
   "metadata": {},
   "outputs": [],
   "source": [
    "dc = DecisionTreeRegressor(max_depth=50, random_state=1)"
   ]
  },
  {
   "cell_type": "code",
   "execution_count": 36,
   "id": "7f38067f-fe8f-4583-8304-bab817a400a6",
   "metadata": {},
   "outputs": [
    {
     "data": {
      "text/plain": [
       "DecisionTreeRegressor(max_depth=50, random_state=1)"
      ]
     },
     "execution_count": 36,
     "metadata": {},
     "output_type": "execute_result"
    }
   ],
   "source": [
    "dc.fit(X_train, y_train)"
   ]
  },
  {
   "cell_type": "code",
   "execution_count": 37,
   "id": "fb86c741-6e2a-4226-b56c-78be4ecf1d7d",
   "metadata": {},
   "outputs": [
    {
     "data": {
      "text/plain": [
       "0.9156515992440903"
      ]
     },
     "execution_count": 37,
     "metadata": {},
     "output_type": "execute_result"
    }
   ],
   "source": [
    "dc.score(X_test, y_test)"
   ]
  },
  {
   "cell_type": "code",
   "execution_count": 38,
   "id": "904e1ce8-79ed-4fef-9800-8ef29e356e64",
   "metadata": {},
   "outputs": [],
   "source": [
    "#plot_tree(dc, feature_names=X_train.columns, rounded=True, filled=True);"
   ]
  },
  {
   "cell_type": "code",
   "execution_count": 39,
   "id": "170049df-02fb-45df-b759-89c61f1a1a13",
   "metadata": {},
   "outputs": [],
   "source": [
    "params = {'max_depth': range(1,50)}"
   ]
  },
  {
   "cell_type": "code",
   "execution_count": 40,
   "id": "6f0b3dfd-91e2-404d-9ac3-5e4868eef94b",
   "metadata": {},
   "outputs": [],
   "source": [
    "gs = GridSearchCV(\n",
    "    DecisionTreeRegressor(), param_grid=params)"
   ]
  },
  {
   "cell_type": "code",
   "execution_count": 41,
   "id": "8815435f-b38b-49eb-b185-98ad37e8c371",
   "metadata": {},
   "outputs": [
    {
     "data": {
      "text/plain": [
       "GridSearchCV(estimator=DecisionTreeRegressor(),\n",
       "             param_grid={'max_depth': range(1, 50)})"
      ]
     },
     "execution_count": 41,
     "metadata": {},
     "output_type": "execute_result"
    }
   ],
   "source": [
    "gs.fit(X_train, y_train)"
   ]
  },
  {
   "cell_type": "code",
   "execution_count": 42,
   "id": "0332524f-c313-47a6-9159-463b812df362",
   "metadata": {},
   "outputs": [
    {
     "data": {
      "text/plain": [
       "(1.0, 0.9141425241549098)"
      ]
     },
     "execution_count": 42,
     "metadata": {},
     "output_type": "execute_result"
    }
   ],
   "source": [
    "gs.score(X_train, y_train), gs.score(X_test, y_test)"
   ]
  },
  {
   "cell_type": "code",
   "execution_count": 43,
   "id": "4484d9f9-e37a-4d47-a80e-0e60127b1c3d",
   "metadata": {},
   "outputs": [
    {
     "data": {
      "text/plain": [
       "{'max_depth': 29}"
      ]
     },
     "execution_count": 43,
     "metadata": {},
     "output_type": "execute_result"
    }
   ],
   "source": [
    "gs.best_params_"
   ]
  },
  {
   "cell_type": "code",
   "execution_count": 44,
   "id": "f1d937e1-75e0-48b1-a2ab-6654d7c66e4a",
   "metadata": {},
   "outputs": [],
   "source": [
    "gs_preds = gs.predict(X_test)"
   ]
  },
  {
   "cell_type": "code",
   "execution_count": 45,
   "id": "f15bd0dd-6936-48a4-a06d-79b699324e98",
   "metadata": {},
   "outputs": [
    {
     "data": {
      "text/plain": [
       "28.80624857332188"
      ]
     },
     "execution_count": 45,
     "metadata": {},
     "output_type": "execute_result"
    }
   ],
   "source": [
    "mean_squared_error(y_test, gs_preds, squared=False)"
   ]
  },
  {
   "cell_type": "markdown",
   "id": "027637ab-00a5-423d-8f8e-56e15d1f4ba9",
   "metadata": {},
   "source": [
    "This is actually pretty impressive! Since decision trees don't care about collinearity, the model was able to fairly accurately predict Parks & Rec expenses based on the other features."
   ]
  },
  {
   "cell_type": "markdown",
   "id": "65d6d8b0-7dce-4449-b443-263b140b75b5",
   "metadata": {},
   "source": [
    "----"
   ]
  },
  {
   "cell_type": "markdown",
   "id": "2813214f-7924-4743-9c88-56948d6ef1d4",
   "metadata": {},
   "source": [
    "Additional things to try with more time:\n",
    "\n",
    "- Predicting other target variables\n",
    "- Trying more complicated models, ensembling"
   ]
  },
  {
   "cell_type": "markdown",
   "id": "600fc121-02a9-4e09-b00c-25e8c19aad97",
   "metadata": {},
   "source": [
    "### Decision Tree Attempt on 2015 ONLY\n",
    "-----"
   ]
  },
  {
   "cell_type": "code",
   "execution_count": 59,
   "id": "000ec1ca-b65e-4c16-8924-e4e670ef71c3",
   "metadata": {},
   "outputs": [],
   "source": [
    "drop_cols = ['parks_recreation_city', 'year', 'city_name', 'city_types', 'id_city','cpi']"
   ]
  },
  {
   "cell_type": "code",
   "execution_count": 60,
   "id": "3e266143-b559-4159-af05-3debd764f738",
   "metadata": {},
   "outputs": [],
   "source": [
    "# trying LinReg with all columns, ignoring collinearity\n",
    "X = df_2015.drop(columns=drop_cols)\n",
    "X = X.dropna(axis=1)\n",
    "y = df_2015['parks_recreation_city']"
   ]
  },
  {
   "cell_type": "code",
   "execution_count": 61,
   "id": "0d02db82-de03-4088-aae8-ab78fc2c832c",
   "metadata": {},
   "outputs": [],
   "source": [
    "X_train, X_test, y_train, y_test = train_test_split(X, y, random_state=1)\n"
   ]
  },
  {
   "cell_type": "code",
   "execution_count": 62,
   "id": "dfc8b98b-ab67-4520-82b1-6558d3eaa562",
   "metadata": {},
   "outputs": [
    {
     "data": {
      "text/plain": [
       "(163, 260)"
      ]
     },
     "execution_count": 62,
     "metadata": {},
     "output_type": "execute_result"
    }
   ],
   "source": [
    "X_train.shape"
   ]
  },
  {
   "cell_type": "code",
   "execution_count": 63,
   "id": "19aae11f-ed1c-40b9-99c4-680fc57c8cfd",
   "metadata": {},
   "outputs": [],
   "source": [
    "dc = DecisionTreeRegressor(max_depth=50, random_state=1)"
   ]
  },
  {
   "cell_type": "code",
   "execution_count": 64,
   "id": "eb3cb015-5f41-4b40-be92-07bf276303b6",
   "metadata": {},
   "outputs": [
    {
     "data": {
      "text/plain": [
       "DecisionTreeRegressor(max_depth=50, random_state=1)"
      ]
     },
     "execution_count": 64,
     "metadata": {},
     "output_type": "execute_result"
    }
   ],
   "source": [
    "dc.fit(X_train, y_train)"
   ]
  },
  {
   "cell_type": "code",
   "execution_count": 65,
   "id": "f94c65b7-3378-448c-ac6f-db0cf510f746",
   "metadata": {},
   "outputs": [
    {
     "data": {
      "text/plain": [
       "-1.9807397963240145"
      ]
     },
     "execution_count": 65,
     "metadata": {},
     "output_type": "execute_result"
    }
   ],
   "source": [
    "dc.score(X_test, y_test)"
   ]
  },
  {
   "cell_type": "code",
   "execution_count": 38,
   "id": "b9c0fbf8-1f2c-40ae-a870-c8182a3f3311",
   "metadata": {},
   "outputs": [],
   "source": [
    "#plot_tree(dc, feature_names=X_train.columns, rounded=True, filled=True);"
   ]
  },
  {
   "cell_type": "code",
   "execution_count": 73,
   "id": "18802b97-bd84-4034-a217-b3dfe9591798",
   "metadata": {},
   "outputs": [],
   "source": [
    "params = {'max_depth': range(1,1000)}"
   ]
  },
  {
   "cell_type": "code",
   "execution_count": 74,
   "id": "fe369efe-f9e7-441d-934d-37ac339eddfc",
   "metadata": {},
   "outputs": [],
   "source": [
    "gs = GridSearchCV(\n",
    "    DecisionTreeRegressor(), param_grid=params)"
   ]
  },
  {
   "cell_type": "code",
   "execution_count": 75,
   "id": "cf6ebc78-9f32-4376-9691-13281fa24a58",
   "metadata": {},
   "outputs": [
    {
     "data": {
      "text/plain": [
       "GridSearchCV(estimator=DecisionTreeRegressor(),\n",
       "             param_grid={'max_depth': range(1, 1000)})"
      ]
     },
     "execution_count": 75,
     "metadata": {},
     "output_type": "execute_result"
    }
   ],
   "source": [
    "gs.fit(X_train, y_train)"
   ]
  },
  {
   "cell_type": "code",
   "execution_count": 76,
   "id": "e6053f6a-30f1-4aa2-a88f-ed7b1d5e4c68",
   "metadata": {},
   "outputs": [
    {
     "data": {
      "text/plain": [
       "(1.0, -2.0969835000788035)"
      ]
     },
     "execution_count": 76,
     "metadata": {},
     "output_type": "execute_result"
    }
   ],
   "source": [
    "gs.score(X_train, y_train), gs.score(X_test, y_test)"
   ]
  },
  {
   "cell_type": "code",
   "execution_count": 77,
   "id": "95b7ce9a-d954-4b89-b152-7922667399a1",
   "metadata": {},
   "outputs": [
    {
     "data": {
      "text/plain": [
       "{'max_depth': 831}"
      ]
     },
     "execution_count": 77,
     "metadata": {},
     "output_type": "execute_result"
    }
   ],
   "source": [
    "gs.best_params_"
   ]
  },
  {
   "cell_type": "code",
   "execution_count": 78,
   "id": "5455f9f1-a202-40cc-8c0e-33600ac1d4f7",
   "metadata": {},
   "outputs": [],
   "source": [
    "gs_preds = gs.predict(X_test)"
   ]
  },
  {
   "cell_type": "code",
   "execution_count": 79,
   "id": "04631112-4652-419a-9032-841ecc31022b",
   "metadata": {},
   "outputs": [
    {
     "data": {
      "text/plain": [
       "157.3889646761112"
      ]
     },
     "execution_count": 79,
     "metadata": {},
     "output_type": "execute_result"
    }
   ],
   "source": [
    "mean_squared_error(y_test, gs_preds, squared=False)"
   ]
  },
  {
   "cell_type": "markdown",
   "id": "3b246412-b7a7-4cb5-9add-0695cbb491c9",
   "metadata": {},
   "source": [
    "Oh boy, it turns out that taking out the observations from previous years is what was giving the DecisionTree model above the information to get a 91%. "
   ]
  }
 ],
 "metadata": {
  "kernelspec": {
   "display_name": "Python 3 (ipykernel)",
   "language": "python",
   "name": "python3"
  },
  "language_info": {
   "codemirror_mode": {
    "name": "ipython",
    "version": 3
   },
   "file_extension": ".py",
   "mimetype": "text/x-python",
   "name": "python",
   "nbconvert_exporter": "python",
   "pygments_lexer": "ipython3",
   "version": "3.9.12"
  }
 },
 "nbformat": 4,
 "nbformat_minor": 5
}
