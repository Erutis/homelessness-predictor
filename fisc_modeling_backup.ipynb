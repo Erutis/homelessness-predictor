{
 "cells": [
  {
   "cell_type": "markdown",
   "id": "fd9f8eb5-6a3e-44b2-8905-506b7b811b8d",
   "metadata": {},
   "source": [
    "# FiSC Modeling\n",
    "\n",
    "In case I don't get enough data to model on with the homelessness set.\n",
    "\n",
    "\n"
   ]
  },
  {
   "cell_type": "code",
   "execution_count": 24,
   "id": "bdb8917d-ebd3-4906-9403-5ea1d70faee3",
   "metadata": {},
   "outputs": [],
   "source": [
    "import pandas as pd\n",
    "import numpy as np\n",
    "import seaborn as sns\n",
    "import matplotlib.pyplot as plt\n",
    "\n",
    "#standard scaler\n",
    "# lin reg\n",
    "from sklearn.linear_model import LinearRegression\n",
    "from sklearn.model_selection import train_test_split, GridSearchCV\n",
    "from sklearn.preprocessing import StandardScaler\n",
    "\n",
    "from sklearn.tree import DecisionTreeRegressor, plot_tree\n",
    "\n",
    "from sklearn.metrics import mean_absolute_error, mean_squared_error"
   ]
  },
  {
   "cell_type": "code",
   "execution_count": 2,
   "id": "9e302681-2955-4c4e-a351-90271a4b8208",
   "metadata": {},
   "outputs": [
    {
     "data": {
      "text/html": [
       "<div>\n",
       "<style scoped>\n",
       "    .dataframe tbody tr th:only-of-type {\n",
       "        vertical-align: middle;\n",
       "    }\n",
       "\n",
       "    .dataframe tbody tr th {\n",
       "        vertical-align: top;\n",
       "    }\n",
       "\n",
       "    .dataframe thead th {\n",
       "        text-align: right;\n",
       "    }\n",
       "</style>\n",
       "<table border=\"1\" class=\"dataframe\">\n",
       "  <thead>\n",
       "    <tr style=\"text-align: right;\">\n",
       "      <th></th>\n",
       "      <th>year</th>\n",
       "      <th>city_name</th>\n",
       "      <th>city_types</th>\n",
       "      <th>id_city</th>\n",
       "      <th>city_population</th>\n",
       "      <th>cpi</th>\n",
       "      <th>rev_total_city</th>\n",
       "      <th>rev_general_city</th>\n",
       "      <th>intergovt_rev_city</th>\n",
       "      <th>igr_federal_city</th>\n",
       "      <th>...</th>\n",
       "      <th>cash_other_offsets</th>\n",
       "      <th>cash_other_bonds</th>\n",
       "      <th>cash_other_other</th>\n",
       "      <th>county_name</th>\n",
       "      <th>id_county</th>\n",
       "      <th>county_population</th>\n",
       "      <th>relationship_city_school</th>\n",
       "      <th>enrollment</th>\n",
       "      <th>districts_in_city</th>\n",
       "      <th>consolidated_govt</th>\n",
       "    </tr>\n",
       "  </thead>\n",
       "  <tbody>\n",
       "    <tr>\n",
       "      <th>0</th>\n",
       "      <td>1977</td>\n",
       "      <td>AK: Anchorage</td>\n",
       "      <td>core</td>\n",
       "      <td>22002001</td>\n",
       "      <td>174500</td>\n",
       "      <td>4.044885</td>\n",
       "      <td>5342.24</td>\n",
       "      <td>4956.92</td>\n",
       "      <td>2148.77</td>\n",
       "      <td>279.32</td>\n",
       "      <td>...</td>\n",
       "      <td>178.51</td>\n",
       "      <td>787.93</td>\n",
       "      <td>691.32</td>\n",
       "      <td>NaN</td>\n",
       "      <td>NaN</td>\n",
       "      <td>NaN</td>\n",
       "      <td>4.0</td>\n",
       "      <td>36855.0</td>\n",
       "      <td>NaN</td>\n",
       "      <td>1.0</td>\n",
       "    </tr>\n",
       "    <tr>\n",
       "      <th>1</th>\n",
       "      <td>1978</td>\n",
       "      <td>AK: Anchorage</td>\n",
       "      <td>core</td>\n",
       "      <td>22002001</td>\n",
       "      <td>177000</td>\n",
       "      <td>3.759509</td>\n",
       "      <td>5948.99</td>\n",
       "      <td>5490.05</td>\n",
       "      <td>2468.11</td>\n",
       "      <td>403.24</td>\n",
       "      <td>...</td>\n",
       "      <td>187.53</td>\n",
       "      <td>1395.82</td>\n",
       "      <td>1158.01</td>\n",
       "      <td>NaN</td>\n",
       "      <td>NaN</td>\n",
       "      <td>NaN</td>\n",
       "      <td>4.0</td>\n",
       "      <td>36804.0</td>\n",
       "      <td>NaN</td>\n",
       "      <td>1.0</td>\n",
       "    </tr>\n",
       "    <tr>\n",
       "      <th>2</th>\n",
       "      <td>1979</td>\n",
       "      <td>AK: Anchorage</td>\n",
       "      <td>core</td>\n",
       "      <td>22002001</td>\n",
       "      <td>179600</td>\n",
       "      <td>3.376308</td>\n",
       "      <td>6158.68</td>\n",
       "      <td>5746.64</td>\n",
       "      <td>2573.34</td>\n",
       "      <td>496.97</td>\n",
       "      <td>...</td>\n",
       "      <td>249.03</td>\n",
       "      <td>1812.04</td>\n",
       "      <td>1314.62</td>\n",
       "      <td>NaN</td>\n",
       "      <td>NaN</td>\n",
       "      <td>NaN</td>\n",
       "      <td>4.0</td>\n",
       "      <td>36757.0</td>\n",
       "      <td>NaN</td>\n",
       "      <td>1.0</td>\n",
       "    </tr>\n",
       "    <tr>\n",
       "      <th>3</th>\n",
       "      <td>1980</td>\n",
       "      <td>AK: Anchorage</td>\n",
       "      <td>core</td>\n",
       "      <td>22002001</td>\n",
       "      <td>178800</td>\n",
       "      <td>2.974757</td>\n",
       "      <td>5654.93</td>\n",
       "      <td>5210.77</td>\n",
       "      <td>2313.62</td>\n",
       "      <td>371.46</td>\n",
       "      <td>...</td>\n",
       "      <td>986.73</td>\n",
       "      <td>1330.72</td>\n",
       "      <td>1572.66</td>\n",
       "      <td>NaN</td>\n",
       "      <td>NaN</td>\n",
       "      <td>NaN</td>\n",
       "      <td>4.0</td>\n",
       "      <td>36008.0</td>\n",
       "      <td>NaN</td>\n",
       "      <td>1.0</td>\n",
       "    </tr>\n",
       "    <tr>\n",
       "      <th>4</th>\n",
       "      <td>1981</td>\n",
       "      <td>AK: Anchorage</td>\n",
       "      <td>core</td>\n",
       "      <td>22002001</td>\n",
       "      <td>174431</td>\n",
       "      <td>2.696590</td>\n",
       "      <td>6192.83</td>\n",
       "      <td>5736.81</td>\n",
       "      <td>2771.43</td>\n",
       "      <td>338.76</td>\n",
       "      <td>...</td>\n",
       "      <td>977.32</td>\n",
       "      <td>1549.51</td>\n",
       "      <td>1669.55</td>\n",
       "      <td>NaN</td>\n",
       "      <td>NaN</td>\n",
       "      <td>NaN</td>\n",
       "      <td>4.0</td>\n",
       "      <td>34557.0</td>\n",
       "      <td>NaN</td>\n",
       "      <td>1.0</td>\n",
       "    </tr>\n",
       "  </tbody>\n",
       "</table>\n",
       "<p>5 rows × 663 columns</p>\n",
       "</div>"
      ],
      "text/plain": [
       "   year      city_name city_types   id_city  city_population       cpi  \\\n",
       "0  1977  AK: Anchorage       core  22002001           174500  4.044885   \n",
       "1  1978  AK: Anchorage       core  22002001           177000  3.759509   \n",
       "2  1979  AK: Anchorage       core  22002001           179600  3.376308   \n",
       "3  1980  AK: Anchorage       core  22002001           178800  2.974757   \n",
       "4  1981  AK: Anchorage       core  22002001           174431  2.696590   \n",
       "\n",
       "   rev_total_city  rev_general_city  intergovt_rev_city  igr_federal_city  \\\n",
       "0         5342.24           4956.92             2148.77            279.32   \n",
       "1         5948.99           5490.05             2468.11            403.24   \n",
       "2         6158.68           5746.64             2573.34            496.97   \n",
       "3         5654.93           5210.77             2313.62            371.46   \n",
       "4         6192.83           5736.81             2771.43            338.76   \n",
       "\n",
       "   ...  cash_other_offsets  cash_other_bonds  cash_other_other  county_name  \\\n",
       "0  ...              178.51            787.93            691.32          NaN   \n",
       "1  ...              187.53           1395.82           1158.01          NaN   \n",
       "2  ...              249.03           1812.04           1314.62          NaN   \n",
       "3  ...              986.73           1330.72           1572.66          NaN   \n",
       "4  ...              977.32           1549.51           1669.55          NaN   \n",
       "\n",
       "   id_county  county_population  relationship_city_school  enrollment  \\\n",
       "0        NaN                NaN                       4.0     36855.0   \n",
       "1        NaN                NaN                       4.0     36804.0   \n",
       "2        NaN                NaN                       4.0     36757.0   \n",
       "3        NaN                NaN                       4.0     36008.0   \n",
       "4        NaN                NaN                       4.0     34557.0   \n",
       "\n",
       "   districts_in_city  consolidated_govt  \n",
       "0                NaN                1.0  \n",
       "1                NaN                1.0  \n",
       "2                NaN                1.0  \n",
       "3                NaN                1.0  \n",
       "4                NaN                1.0  \n",
       "\n",
       "[5 rows x 663 columns]"
      ]
     },
     "execution_count": 2,
     "metadata": {},
     "output_type": "execute_result"
    }
   ],
   "source": [
    "df = pd.read_csv('fisc_data.csv')\n",
    "df.head()"
   ]
  },
  {
   "cell_type": "code",
   "execution_count": 3,
   "id": "db8edf8d-e9e9-4a3c-afec-4a37afdd36c9",
   "metadata": {},
   "outputs": [
    {
     "data": {
      "text/plain": [
       "(8938, 663)"
      ]
     },
     "execution_count": 3,
     "metadata": {},
     "output_type": "execute_result"
    }
   ],
   "source": [
    "df.shape"
   ]
  },
  {
   "cell_type": "code",
   "execution_count": 4,
   "id": "815b3b91-24ab-4dc5-ad8b-c3eaf596a9bc",
   "metadata": {},
   "outputs": [
    {
     "data": {
      "text/html": [
       "<div>\n",
       "<style scoped>\n",
       "    .dataframe tbody tr th:only-of-type {\n",
       "        vertical-align: middle;\n",
       "    }\n",
       "\n",
       "    .dataframe tbody tr th {\n",
       "        vertical-align: top;\n",
       "    }\n",
       "\n",
       "    .dataframe thead th {\n",
       "        text-align: right;\n",
       "    }\n",
       "</style>\n",
       "<table border=\"1\" class=\"dataframe\">\n",
       "  <thead>\n",
       "    <tr style=\"text-align: right;\">\n",
       "      <th></th>\n",
       "      <th>city_population</th>\n",
       "      <th>rev_general_city</th>\n",
       "      <th>police_city</th>\n",
       "      <th>social_services_city</th>\n",
       "      <th>admin_judicial_city</th>\n",
       "      <th>education_services_city</th>\n",
       "    </tr>\n",
       "  </thead>\n",
       "  <tbody>\n",
       "    <tr>\n",
       "      <th>1547</th>\n",
       "      <td>570681</td>\n",
       "      <td>19695.71</td>\n",
       "      <td>1036.59</td>\n",
       "      <td>5578.57</td>\n",
       "      <td>169.41</td>\n",
       "      <td>3297.08</td>\n",
       "    </tr>\n",
       "    <tr>\n",
       "      <th>1556</th>\n",
       "      <td>675254</td>\n",
       "      <td>19342.07</td>\n",
       "      <td>897.42</td>\n",
       "      <td>6822.65</td>\n",
       "      <td>200.43</td>\n",
       "      <td>4296.92</td>\n",
       "    </tr>\n",
       "    <tr>\n",
       "      <th>1548</th>\n",
       "      <td>574404</td>\n",
       "      <td>19322.98</td>\n",
       "      <td>1171.16</td>\n",
       "      <td>6343.37</td>\n",
       "      <td>213.80</td>\n",
       "      <td>4532.70</td>\n",
       "    </tr>\n",
       "    <tr>\n",
       "      <th>1555</th>\n",
       "      <td>662513</td>\n",
       "      <td>19318.35</td>\n",
       "      <td>912.67</td>\n",
       "      <td>6733.37</td>\n",
       "      <td>167.12</td>\n",
       "      <td>4365.06</td>\n",
       "    </tr>\n",
       "    <tr>\n",
       "      <th>1557</th>\n",
       "      <td>686575</td>\n",
       "      <td>19006.13</td>\n",
       "      <td>922.41</td>\n",
       "      <td>6686.37</td>\n",
       "      <td>215.82</td>\n",
       "      <td>4369.37</td>\n",
       "    </tr>\n",
       "    <tr>\n",
       "      <th>1546</th>\n",
       "      <td>567136</td>\n",
       "      <td>18596.09</td>\n",
       "      <td>1057.44</td>\n",
       "      <td>5381.26</td>\n",
       "      <td>154.14</td>\n",
       "      <td>3245.03</td>\n",
       "    </tr>\n",
       "    <tr>\n",
       "      <th>1552</th>\n",
       "      <td>619602</td>\n",
       "      <td>18515.94</td>\n",
       "      <td>971.41</td>\n",
       "      <td>6096.90</td>\n",
       "      <td>186.01</td>\n",
       "      <td>4199.41</td>\n",
       "    </tr>\n",
       "    <tr>\n",
       "      <th>1553</th>\n",
       "      <td>634725</td>\n",
       "      <td>18489.08</td>\n",
       "      <td>927.95</td>\n",
       "      <td>6421.14</td>\n",
       "      <td>190.37</td>\n",
       "      <td>4286.93</td>\n",
       "    </tr>\n",
       "    <tr>\n",
       "      <th>1551</th>\n",
       "      <td>605085</td>\n",
       "      <td>18423.33</td>\n",
       "      <td>1064.41</td>\n",
       "      <td>6206.64</td>\n",
       "      <td>205.31</td>\n",
       "      <td>4358.31</td>\n",
       "    </tr>\n",
       "    <tr>\n",
       "      <th>1550</th>\n",
       "      <td>592228</td>\n",
       "      <td>18249.41</td>\n",
       "      <td>1079.86</td>\n",
       "      <td>6252.47</td>\n",
       "      <td>226.64</td>\n",
       "      <td>4719.30</td>\n",
       "    </tr>\n",
       "  </tbody>\n",
       "</table>\n",
       "</div>"
      ],
      "text/plain": [
       "      city_population  rev_general_city  police_city  social_services_city  \\\n",
       "1547           570681          19695.71      1036.59               5578.57   \n",
       "1556           675254          19342.07       897.42               6822.65   \n",
       "1548           574404          19322.98      1171.16               6343.37   \n",
       "1555           662513          19318.35       912.67               6733.37   \n",
       "1557           686575          19006.13       922.41               6686.37   \n",
       "1546           567136          18596.09      1057.44               5381.26   \n",
       "1552           619602          18515.94       971.41               6096.90   \n",
       "1553           634725          18489.08       927.95               6421.14   \n",
       "1551           605085          18423.33      1064.41               6206.64   \n",
       "1550           592228          18249.41      1079.86               6252.47   \n",
       "\n",
       "      admin_judicial_city  education_services_city  \n",
       "1547               169.41                  3297.08  \n",
       "1556               200.43                  4296.92  \n",
       "1548               213.80                  4532.70  \n",
       "1555               167.12                  4365.06  \n",
       "1557               215.82                  4369.37  \n",
       "1546               154.14                  3245.03  \n",
       "1552               186.01                  4199.41  \n",
       "1553               190.37                  4286.93  \n",
       "1551               205.31                  4358.31  \n",
       "1550               226.64                  4719.30  "
      ]
     },
     "execution_count": 4,
     "metadata": {},
     "output_type": "execute_result"
    }
   ],
   "source": [
    "df[['city_population', 'rev_general_city', \n",
    "    'police_city','social_services_city','admin_judicial_city',\n",
    "    'education_services_city']].sort_values(by='rev_general_city', ascending=False).head(10)\n",
    "\n"
   ]
  },
  {
   "cell_type": "code",
   "execution_count": 5,
   "id": "8f7acd3e-bde2-4023-96a0-e86809ef2eb2",
   "metadata": {},
   "outputs": [],
   "source": [
    "drop_cols = ['parks_recreation_city', 'year', 'city_name', 'city_types', 'id_city','cpi']"
   ]
  },
  {
   "cell_type": "code",
   "execution_count": 6,
   "id": "9c9fa0e6-97da-475c-9fa3-da8af2cbe302",
   "metadata": {},
   "outputs": [],
   "source": [
    "# trying LinReg with all columns, ignoring collinearity\n",
    "X = df.drop(columns=drop_cols)\n",
    "X = X.dropna(axis=1)\n",
    "y = df['parks_recreation_city']"
   ]
  },
  {
   "cell_type": "code",
   "execution_count": 7,
   "id": "180fbc86-4057-4b1a-a2ed-f902983d527c",
   "metadata": {},
   "outputs": [],
   "source": [
    "X_train, X_test, y_train, y_test = train_test_split(X, y, random_state=1)\n"
   ]
  },
  {
   "cell_type": "code",
   "execution_count": 8,
   "id": "0c2e1359-b2b5-4146-a6b9-348765b4c825",
   "metadata": {},
   "outputs": [],
   "source": [
    "sc = StandardScaler()\n",
    "X_train_sc = sc.fit_transform(X_train)\n",
    "X_test_sc = sc.transform(X_test)"
   ]
  },
  {
   "cell_type": "code",
   "execution_count": 9,
   "id": "b0c00407-ffa7-4603-bbea-563561b4d385",
   "metadata": {},
   "outputs": [
    {
     "data": {
      "text/plain": [
       "(0.9999154047606224, 0.9994006205227319)"
      ]
     },
     "execution_count": 9,
     "metadata": {},
     "output_type": "execute_result"
    }
   ],
   "source": [
    "lr = LinearRegression()\n",
    "lr.fit(X_train_sc, y_train)\n",
    "lr.score(X_train_sc, y_train), lr.score(X_test_sc, y_test)"
   ]
  },
  {
   "cell_type": "markdown",
   "id": "33913847-c87c-4344-99ca-da80ee6719e3",
   "metadata": {},
   "source": [
    "This linear regression is likely overfitting and has a ton of multicollinearity. Below we'll try only including a few select features out of the 600+ available."
   ]
  },
  {
   "cell_type": "code",
   "execution_count": 10,
   "id": "06fdca86-adb8-40f1-8551-84335f4f5e0b",
   "metadata": {},
   "outputs": [
    {
     "data": {
      "text/plain": [
       "array([152.74130392,  25.16607512,  15.60179138, ..., 202.62870043,\n",
       "        83.94691104, 200.70426427])"
      ]
     },
     "execution_count": 10,
     "metadata": {},
     "output_type": "execute_result"
    }
   ],
   "source": [
    "preds = lr.predict(X_test_sc)\n",
    "preds"
   ]
  },
  {
   "cell_type": "markdown",
   "id": "f4692f30-8fb2-4453-ad9d-98701cf18874",
   "metadata": {},
   "source": [
    "### Attempt 2\n",
    "----"
   ]
  },
  {
   "cell_type": "code",
   "execution_count": 11,
   "id": "a63cb033-1ba0-4706-83ae-f497044230b3",
   "metadata": {},
   "outputs": [],
   "source": [
    "X_1 = df[['city_population', \n",
    "        'rev_general_city', \n",
    "        'police_city',\n",
    "        'social_services_city',\n",
    "        'admin_judicial_city',\n",
    "        'education_services_city',\n",
    "       'spend_intergovt_city',\n",
    "       'transportation_city']]\n",
    "\n",
    "X_2 = df[[ \n",
    "        'rev_general_city', \n",
    "        'police_city',\n",
    "        'social_services_city',\n",
    "        'admin_judicial_city',\n",
    "        'education_services_city',\n",
    "       'spend_intergovt_city',\n",
    "       'transportation_city']]"
   ]
  },
  {
   "cell_type": "code",
   "execution_count": 12,
   "id": "798640ec-220f-4695-8014-34ddd395dfcc",
   "metadata": {},
   "outputs": [],
   "source": [
    "X = df[['city_population', \n",
    "        'rev_general_city', \n",
    "        'police_city',\n",
    "        'social_services_city',\n",
    "        'admin_judicial_city',\n",
    "        'education_services_city',\n",
    "       'spend_intergovt_city',\n",
    "       'transportation_city']]\n",
    "\n",
    "y = df['parks_recreation_city']\n",
    "\n",
    "X_train, X_test, y_train, y_test = train_test_split(X, y, random_state=1)"
   ]
  },
  {
   "cell_type": "code",
   "execution_count": 13,
   "id": "80479562-1140-42bb-a0a5-49683cf01d59",
   "metadata": {},
   "outputs": [],
   "source": [
    "sc = StandardScaler()\n",
    "X_train_sc = sc.fit_transform(X_train)\n",
    "X_test_sc = sc.transform(X_test)"
   ]
  },
  {
   "cell_type": "code",
   "execution_count": 14,
   "id": "3defee9c-f700-46f1-8845-168085ced24f",
   "metadata": {},
   "outputs": [
    {
     "data": {
      "text/html": [
       "<div>\n",
       "<style scoped>\n",
       "    .dataframe tbody tr th:only-of-type {\n",
       "        vertical-align: middle;\n",
       "    }\n",
       "\n",
       "    .dataframe tbody tr th {\n",
       "        vertical-align: top;\n",
       "    }\n",
       "\n",
       "    .dataframe thead th {\n",
       "        text-align: right;\n",
       "    }\n",
       "</style>\n",
       "<table border=\"1\" class=\"dataframe\">\n",
       "  <thead>\n",
       "    <tr style=\"text-align: right;\">\n",
       "      <th></th>\n",
       "      <th>city_population</th>\n",
       "      <th>rev_general_city</th>\n",
       "      <th>police_city</th>\n",
       "      <th>social_services_city</th>\n",
       "      <th>admin_judicial_city</th>\n",
       "      <th>education_services_city</th>\n",
       "      <th>spend_intergovt_city</th>\n",
       "      <th>transportation_city</th>\n",
       "    </tr>\n",
       "  </thead>\n",
       "  <tbody>\n",
       "    <tr>\n",
       "      <th>0</th>\n",
       "      <td>-0.296947</td>\n",
       "      <td>-0.743735</td>\n",
       "      <td>-0.178900</td>\n",
       "      <td>-0.281343</td>\n",
       "      <td>-0.610802</td>\n",
       "      <td>-0.443122</td>\n",
       "      <td>-0.158060</td>\n",
       "      <td>-0.509400</td>\n",
       "    </tr>\n",
       "    <tr>\n",
       "      <th>1</th>\n",
       "      <td>-0.205600</td>\n",
       "      <td>-0.763487</td>\n",
       "      <td>-0.427261</td>\n",
       "      <td>-0.282195</td>\n",
       "      <td>-0.643785</td>\n",
       "      <td>-0.394222</td>\n",
       "      <td>-0.158060</td>\n",
       "      <td>-0.541518</td>\n",
       "    </tr>\n",
       "    <tr>\n",
       "      <th>2</th>\n",
       "      <td>-0.169303</td>\n",
       "      <td>-0.068906</td>\n",
       "      <td>-0.224983</td>\n",
       "      <td>-0.209330</td>\n",
       "      <td>0.364422</td>\n",
       "      <td>-0.374102</td>\n",
       "      <td>-0.158060</td>\n",
       "      <td>-0.543674</td>\n",
       "    </tr>\n",
       "    <tr>\n",
       "      <th>3</th>\n",
       "      <td>-0.361930</td>\n",
       "      <td>-0.855750</td>\n",
       "      <td>-1.260404</td>\n",
       "      <td>-0.282195</td>\n",
       "      <td>-0.749568</td>\n",
       "      <td>-0.443122</td>\n",
       "      <td>-0.158060</td>\n",
       "      <td>-0.679349</td>\n",
       "    </tr>\n",
       "    <tr>\n",
       "      <th>4</th>\n",
       "      <td>-0.359270</td>\n",
       "      <td>-0.420882</td>\n",
       "      <td>-0.277302</td>\n",
       "      <td>-0.222134</td>\n",
       "      <td>-0.748677</td>\n",
       "      <td>-0.439394</td>\n",
       "      <td>-0.158060</td>\n",
       "      <td>-0.789560</td>\n",
       "    </tr>\n",
       "    <tr>\n",
       "      <th>...</th>\n",
       "      <td>...</td>\n",
       "      <td>...</td>\n",
       "      <td>...</td>\n",
       "      <td>...</td>\n",
       "      <td>...</td>\n",
       "      <td>...</td>\n",
       "      <td>...</td>\n",
       "      <td>...</td>\n",
       "    </tr>\n",
       "    <tr>\n",
       "      <th>6698</th>\n",
       "      <td>0.076116</td>\n",
       "      <td>-0.622037</td>\n",
       "      <td>-0.625433</td>\n",
       "      <td>-0.225746</td>\n",
       "      <td>-0.059602</td>\n",
       "      <td>-0.412122</td>\n",
       "      <td>-0.158060</td>\n",
       "      <td>0.773985</td>\n",
       "    </tr>\n",
       "    <tr>\n",
       "      <th>6699</th>\n",
       "      <td>-0.042610</td>\n",
       "      <td>-0.675944</td>\n",
       "      <td>-0.425056</td>\n",
       "      <td>-0.183743</td>\n",
       "      <td>-0.439945</td>\n",
       "      <td>-0.414092</td>\n",
       "      <td>-0.158060</td>\n",
       "      <td>-0.559183</td>\n",
       "    </tr>\n",
       "    <tr>\n",
       "      <th>6700</th>\n",
       "      <td>-0.305167</td>\n",
       "      <td>-0.798175</td>\n",
       "      <td>-1.002613</td>\n",
       "      <td>-0.281668</td>\n",
       "      <td>-0.749568</td>\n",
       "      <td>-0.443122</td>\n",
       "      <td>-0.148307</td>\n",
       "      <td>-0.382167</td>\n",
       "    </tr>\n",
       "    <tr>\n",
       "      <th>6701</th>\n",
       "      <td>-0.295968</td>\n",
       "      <td>0.890837</td>\n",
       "      <td>-0.302776</td>\n",
       "      <td>-0.187416</td>\n",
       "      <td>-0.504128</td>\n",
       "      <td>1.604900</td>\n",
       "      <td>-0.158060</td>\n",
       "      <td>1.189407</td>\n",
       "    </tr>\n",
       "    <tr>\n",
       "      <th>6702</th>\n",
       "      <td>-0.151059</td>\n",
       "      <td>-0.497593</td>\n",
       "      <td>-0.263994</td>\n",
       "      <td>-0.279233</td>\n",
       "      <td>-0.115762</td>\n",
       "      <td>-0.393641</td>\n",
       "      <td>-0.158060</td>\n",
       "      <td>-0.306782</td>\n",
       "    </tr>\n",
       "  </tbody>\n",
       "</table>\n",
       "<p>6703 rows × 8 columns</p>\n",
       "</div>"
      ],
      "text/plain": [
       "      city_population  rev_general_city  police_city  social_services_city  \\\n",
       "0           -0.296947         -0.743735    -0.178900             -0.281343   \n",
       "1           -0.205600         -0.763487    -0.427261             -0.282195   \n",
       "2           -0.169303         -0.068906    -0.224983             -0.209330   \n",
       "3           -0.361930         -0.855750    -1.260404             -0.282195   \n",
       "4           -0.359270         -0.420882    -0.277302             -0.222134   \n",
       "...               ...               ...          ...                   ...   \n",
       "6698         0.076116         -0.622037    -0.625433             -0.225746   \n",
       "6699        -0.042610         -0.675944    -0.425056             -0.183743   \n",
       "6700        -0.305167         -0.798175    -1.002613             -0.281668   \n",
       "6701        -0.295968          0.890837    -0.302776             -0.187416   \n",
       "6702        -0.151059         -0.497593    -0.263994             -0.279233   \n",
       "\n",
       "      admin_judicial_city  education_services_city  spend_intergovt_city  \\\n",
       "0               -0.610802                -0.443122             -0.158060   \n",
       "1               -0.643785                -0.394222             -0.158060   \n",
       "2                0.364422                -0.374102             -0.158060   \n",
       "3               -0.749568                -0.443122             -0.158060   \n",
       "4               -0.748677                -0.439394             -0.158060   \n",
       "...                   ...                      ...                   ...   \n",
       "6698            -0.059602                -0.412122             -0.158060   \n",
       "6699            -0.439945                -0.414092             -0.158060   \n",
       "6700            -0.749568                -0.443122             -0.148307   \n",
       "6701            -0.504128                 1.604900             -0.158060   \n",
       "6702            -0.115762                -0.393641             -0.158060   \n",
       "\n",
       "      transportation_city  \n",
       "0               -0.509400  \n",
       "1               -0.541518  \n",
       "2               -0.543674  \n",
       "3               -0.679349  \n",
       "4               -0.789560  \n",
       "...                   ...  \n",
       "6698             0.773985  \n",
       "6699            -0.559183  \n",
       "6700            -0.382167  \n",
       "6701             1.189407  \n",
       "6702            -0.306782  \n",
       "\n",
       "[6703 rows x 8 columns]"
      ]
     },
     "execution_count": 14,
     "metadata": {},
     "output_type": "execute_result"
    }
   ],
   "source": [
    "X_t_sc_pd = pd.DataFrame(X_train_sc, columns=X_train.columns)\n",
    "X_t_sc_pd"
   ]
  },
  {
   "cell_type": "code",
   "execution_count": 15,
   "id": "b15500d0-5b81-40c3-b5ab-bc9d3dbc68ce",
   "metadata": {},
   "outputs": [
    {
     "data": {
      "text/plain": [
       "<AxesSubplot:>"
      ]
     },
     "execution_count": 15,
     "metadata": {},
     "output_type": "execute_result"
    },
    {
     "data": {
      "image/png": "[encoded data removed]",
      "text/plain": [
       "<Figure size 432x288 with 2 Axes>"
      ]
     },
     "metadata": {
      "needs_background": "light"
     },
     "output_type": "display_data"
    }
   ],
   "source": [
    "sns.heatmap(X_t_sc_pd.corr(), annot=True)"
   ]
  },
  {
   "cell_type": "code",
   "execution_count": 16,
   "id": "cb580b7e-3fba-4fb5-b708-15beae175ad8",
   "metadata": {},
   "outputs": [
    {
     "data": {
      "text/plain": [
       "(0.17836881792564718, 0.23021925833397072)"
      ]
     },
     "execution_count": 16,
     "metadata": {},
     "output_type": "execute_result"
    }
   ],
   "source": [
    "lr = LinearRegression()\n",
    "lr.fit(X_train_sc, y_train)\n",
    "lr.score(X_train_sc, y_train), lr.score(X_test_sc, y_test)"
   ]
  },
  {
   "cell_type": "code",
   "execution_count": 17,
   "id": "e25b915e-f536-4cf3-90ec-a8bf3b14a14d",
   "metadata": {},
   "outputs": [
    {
     "data": {
      "text/plain": [
       "array([ 84.04811425,  76.49056433,  72.60247471, ..., 142.77758716,\n",
       "        94.25578009, 146.65777088])"
      ]
     },
     "execution_count": 17,
     "metadata": {},
     "output_type": "execute_result"
    }
   ],
   "source": [
    "preds = lr.predict(X_test_sc)\n",
    "preds"
   ]
  },
  {
   "cell_type": "code",
   "execution_count": 47,
   "id": "33cfa27b-f2e7-4fd0-849d-71b37dc54343",
   "metadata": {},
   "outputs": [
    {
     "data": {
      "text/plain": [
       "86.25438175984985"
      ]
     },
     "execution_count": 47,
     "metadata": {},
     "output_type": "execute_result"
    }
   ],
   "source": [
    "mean_squared_error(y_test, preds, squared=False)"
   ]
  },
  {
   "cell_type": "markdown",
   "id": "b648eb28-4c6b-455a-98f3-4445c40a0b87",
   "metadata": {},
   "source": [
    "### Decision Tree Attempt\n",
    "-----"
   ]
  },
  {
   "cell_type": "code",
   "execution_count": 32,
   "id": "6a3700dd-fcb4-4331-bf4f-0dce1e44e602",
   "metadata": {},
   "outputs": [],
   "source": [
    "drop_cols = ['parks_recreation_city', 'year', 'city_name', 'city_types', 'id_city','cpi']"
   ]
  },
  {
   "cell_type": "code",
   "execution_count": 33,
   "id": "a38e3760-05a8-4480-b0e0-928bbde302d5",
   "metadata": {},
   "outputs": [],
   "source": [
    "# trying LinReg with all columns, ignoring collinearity\n",
    "X = df.drop(columns=drop_cols)\n",
    "X = X.dropna(axis=1)\n",
    "y = df['parks_recreation_city']"
   ]
  },
  {
   "cell_type": "code",
   "execution_count": 34,
   "id": "322e8535-5914-4b1a-9f73-8b1c2824cd0c",
   "metadata": {},
   "outputs": [],
   "source": [
    "X_train, X_test, y_train, y_test = train_test_split(X, y, random_state=1)\n"
   ]
  },
  {
   "cell_type": "code",
   "execution_count": null,
   "id": "cc28b7c3-37d2-4fc5-8894-bf44a4164d20",
   "metadata": {},
   "outputs": [],
   "source": [
    "X_train.shape"
   ]
  },
  {
   "cell_type": "code",
   "execution_count": 35,
   "id": "848fa0da-8903-4d3c-8e64-27db3bb439b3",
   "metadata": {},
   "outputs": [],
   "source": [
    "dc = DecisionTreeRegressor(max_depth=50, random_state=1)"
   ]
  },
  {
   "cell_type": "code",
   "execution_count": 36,
   "id": "7f38067f-fe8f-4583-8304-bab817a400a6",
   "metadata": {},
   "outputs": [
    {
     "data": {
      "text/plain": [
       "DecisionTreeRegressor(max_depth=50, random_state=1)"
      ]
     },
     "execution_count": 36,
     "metadata": {},
     "output_type": "execute_result"
    }
   ],
   "source": [
    "dc.fit(X_train, y_train)"
   ]
  },
  {
   "cell_type": "code",
   "execution_count": 37,
   "id": "fb86c741-6e2a-4226-b56c-78be4ecf1d7d",
   "metadata": {},
   "outputs": [
    {
     "data": {
      "text/plain": [
       "0.9156515992440903"
      ]
     },
     "execution_count": 37,
     "metadata": {},
     "output_type": "execute_result"
    }
   ],
   "source": [
    "dc.score(X_test, y_test)"
   ]
  },
  {
   "cell_type": "code",
   "execution_count": 38,
   "id": "904e1ce8-79ed-4fef-9800-8ef29e356e64",
   "metadata": {},
   "outputs": [],
   "source": [
    "#plot_tree(dc, feature_names=X_train.columns, rounded=True, filled=True);"
   ]
  },
  {
   "cell_type": "code",
   "execution_count": 39,
   "id": "170049df-02fb-45df-b759-89c61f1a1a13",
   "metadata": {},
   "outputs": [],
   "source": [
    "params = {'max_depth': range(1,50)}"
   ]
  },
  {
   "cell_type": "code",
   "execution_count": 40,
   "id": "6f0b3dfd-91e2-404d-9ac3-5e4868eef94b",
   "metadata": {},
   "outputs": [],
   "source": [
    "gs = GridSearchCV(\n",
    "    DecisionTreeRegressor(), param_grid=params)"
   ]
  },
  {
   "cell_type": "code",
   "execution_count": 41,
   "id": "8815435f-b38b-49eb-b185-98ad37e8c371",
   "metadata": {},
   "outputs": [
    {
     "data": {
      "text/plain": [
       "GridSearchCV(estimator=DecisionTreeRegressor(),\n",
       "             param_grid={'max_depth': range(1, 50)})"
      ]
     },
     "execution_count": 41,
     "metadata": {},
     "output_type": "execute_result"
    }
   ],
   "source": [
    "gs.fit(X_train, y_train)"
   ]
  },
  {
   "cell_type": "code",
   "execution_count": 42,
   "id": "0332524f-c313-47a6-9159-463b812df362",
   "metadata": {},
   "outputs": [
    {
     "data": {
      "text/plain": [
       "(1.0, 0.9141425241549098)"
      ]
     },
     "execution_count": 42,
     "metadata": {},
     "output_type": "execute_result"
    }
   ],
   "source": [
    "gs.score(X_train, y_train), gs.score(X_test, y_test)"
   ]
  },
  {
   "cell_type": "code",
   "execution_count": 43,
   "id": "4484d9f9-e37a-4d47-a80e-0e60127b1c3d",
   "metadata": {},
   "outputs": [
    {
     "data": {
      "text/plain": [
       "{'max_depth': 29}"
      ]
     },
     "execution_count": 43,
     "metadata": {},
     "output_type": "execute_result"
    }
   ],
   "source": [
    "gs.best_params_"
   ]
  },
  {
   "cell_type": "code",
   "execution_count": 44,
   "id": "f1d937e1-75e0-48b1-a2ab-6654d7c66e4a",
   "metadata": {},
   "outputs": [],
   "source": [
    "gs_preds = gs.predict(X_test)"
   ]
  },
  {
   "cell_type": "code",
   "execution_count": 45,
   "id": "f15bd0dd-6936-48a4-a06d-79b699324e98",
   "metadata": {},
   "outputs": [
    {
     "data": {
      "text/plain": [
       "28.80624857332188"
      ]
     },
     "execution_count": 45,
     "metadata": {},
     "output_type": "execute_result"
    }
   ],
   "source": [
    "mean_squared_error(y_test, gs_preds, squared=False)"
   ]
  },
  {
   "cell_type": "code",
   "execution_count": null,
   "id": "4751dd45-8599-4404-90d1-564c4c2cd759",
   "metadata": {},
   "outputs": [],
   "source": []
  },
  {
   "cell_type": "markdown",
   "id": "65d6d8b0-7dce-4449-b443-263b140b75b5",
   "metadata": {},
   "source": [
    "----"
   ]
  }
 ],
 "metadata": {
  "kernelspec": {
   "display_name": "Python 3 (ipykernel)",
   "language": "python",
   "name": "python3"
  },
  "language_info": {
   "codemirror_mode": {
    "name": "ipython",
    "version": 3
   },
   "file_extension": ".py",
   "mimetype": "text/x-python",
   "name": "python",
   "nbconvert_exporter": "python",
   "pygments_lexer": "ipython3",
   "version": "3.9.12"
  }
 },
 "nbformat": 4,
 "nbformat_minor": 5
}
